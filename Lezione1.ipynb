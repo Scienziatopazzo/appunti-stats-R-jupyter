{
 "cells": [
  {
   "cell_type": "markdown",
   "metadata": {},
   "source": [
    "# Statistica e Analisi dei dati\n",
    "\n",
    "## Introduzione a R\n",
    "\n",
    "c(x:y) crea un vettore riempiendolo con il range a estremi esclusi"
   ]
  },
  {
   "cell_type": "code",
   "execution_count": 3,
   "metadata": {
    "collapsed": false
   },
   "outputs": [
    {
     "data": {
      "text/html": [
       "<ol class=list-inline>\n",
       "\t<li>1</li>\n",
       "\t<li>2</li>\n",
       "\t<li>3</li>\n",
       "\t<li>4</li>\n",
       "\t<li>5</li>\n",
       "\t<li>6</li>\n",
       "\t<li>7</li>\n",
       "\t<li>8</li>\n",
       "\t<li>9</li>\n",
       "\t<li>10</li>\n",
       "</ol>\n"
      ],
      "text/latex": [
       "\\begin{enumerate*}\n",
       "\\item 1\n",
       "\\item 2\n",
       "\\item 3\n",
       "\\item 4\n",
       "\\item 5\n",
       "\\item 6\n",
       "\\item 7\n",
       "\\item 8\n",
       "\\item 9\n",
       "\\item 10\n",
       "\\end{enumerate*}\n"
      ],
      "text/markdown": [
       "1. 1\n",
       "2. 2\n",
       "3. 3\n",
       "4. 4\n",
       "5. 5\n",
       "6. 6\n",
       "7. 7\n",
       "8. 8\n",
       "9. 9\n",
       "10. 10\n",
       "\n",
       "\n"
      ],
      "text/plain": [
       " [1]  1  2  3  4  5  6  7  8  9 10"
      ]
     },
     "metadata": {},
     "output_type": "display_data"
    }
   ],
   "source": [
    "eta <- 36\n",
    "dati <- c(1:10)\n",
    "dati"
   ]
  },
  {
   "cell_type": "markdown",
   "metadata": {},
   "source": [
    "Le operazioni + e - sui vettori sono fatte componente per componente"
   ]
  },
  {
   "cell_type": "code",
   "execution_count": 4,
   "metadata": {
    "collapsed": false
   },
   "outputs": [
    {
     "data": {
      "text/html": [
       "<ol class=list-inline>\n",
       "\t<li>-4</li>\n",
       "\t<li>0</li>\n",
       "\t<li>-3</li>\n",
       "\t<li>7</li>\n",
       "\t<li>2</li>\n",
       "</ol>\n"
      ],
      "text/latex": [
       "\\begin{enumerate*}\n",
       "\\item -4\n",
       "\\item 0\n",
       "\\item -3\n",
       "\\item 7\n",
       "\\item 2\n",
       "\\end{enumerate*}\n"
      ],
      "text/markdown": [
       "1. -4\n",
       "2. 0\n",
       "3. -3\n",
       "4. 7\n",
       "5. 2\n",
       "\n",
       "\n"
      ],
      "text/plain": [
       "[1] -4  0 -3  7  2"
      ]
     },
     "metadata": {},
     "output_type": "display_data"
    }
   ],
   "source": [
    "c(1, 5, 2, 12, 7) -> dati\n",
    "dati - 5"
   ]
  },
  {
   "cell_type": "code",
   "execution_count": 6,
   "metadata": {
    "collapsed": false,
    "scrolled": true
   },
   "outputs": [
    {
     "data": {
      "text/html": [
       "<ol class=list-inline>\n",
       "\t<li>1</li>\n",
       "\t<li>2</li>\n",
       "\t<li>3</li>\n",
       "\t<li>4</li>\n",
       "\t<li>5</li>\n",
       "</ol>\n"
      ],
      "text/latex": [
       "\\begin{enumerate*}\n",
       "\\item 1\n",
       "\\item 2\n",
       "\\item 3\n",
       "\\item 4\n",
       "\\item 5\n",
       "\\end{enumerate*}\n"
      ],
      "text/markdown": [
       "1. 1\n",
       "2. 2\n",
       "3. 3\n",
       "4. 4\n",
       "5. 5\n",
       "\n",
       "\n"
      ],
      "text/plain": [
       "[1] 1 2 3 4 5"
      ]
     },
     "metadata": {},
     "output_type": "display_data"
    }
   ],
   "source": [
    "esponenti <- c(1:length(dati))\n",
    "esponenti"
   ]
  },
  {
   "cell_type": "markdown",
   "metadata": {},
   "source": [
    "Con [] accedo agli elementi di un array attraverso gli indici, o con un array di booleani"
   ]
  },
  {
   "cell_type": "code",
   "execution_count": 7,
   "metadata": {
    "collapsed": false
   },
   "outputs": [
    {
     "data": {
      "text/html": [
       "<ol class=list-inline>\n",
       "\t<li>1</li>\n",
       "\t<li>12</li>\n",
       "\t<li>7</li>\n",
       "</ol>\n"
      ],
      "text/latex": [
       "\\begin{enumerate*}\n",
       "\\item 1\n",
       "\\item 12\n",
       "\\item 7\n",
       "\\end{enumerate*}\n"
      ],
      "text/markdown": [
       "1. 1\n",
       "2. 12\n",
       "3. 7\n",
       "\n",
       "\n"
      ],
      "text/plain": [
       "[1]  1 12  7"
      ]
     },
     "metadata": {},
     "output_type": "display_data"
    }
   ],
   "source": [
    "dati[c(T, F, F, T, T)]"
   ]
  },
  {
   "cell_type": "code",
   "execution_count": 8,
   "metadata": {
    "collapsed": false,
    "scrolled": true
   },
   "outputs": [
    {
     "data": {
      "text/html": [
       "<ol class=list-inline>\n",
       "\t<li>2</li>\n",
       "\t<li>2</li>\n",
       "\t<li>2</li>\n",
       "\t<li>3</li>\n",
       "\t<li>4</li>\n",
       "\t<li>5</li>\n",
       "\t<li>3</li>\n",
       "\t<li>2</li>\n",
       "\t<li>4</li>\n",
       "\t<li>5</li>\n",
       "\t<li>1</li>\n",
       "\t<li>9</li>\n",
       "\t<li>2</li>\n",
       "\t<li>4</li>\n",
       "\t<li>8</li>\n",
       "\t<li>7</li>\n",
       "\t<li>7</li>\n",
       "\t<li>8</li>\n",
       "\t<li>NA</li>\n",
       "\t<li>3</li>\n",
       "\t<li>3</li>\n",
       "</ol>\n"
      ],
      "text/latex": [
       "\\begin{enumerate*}\n",
       "\\item 2\n",
       "\\item 2\n",
       "\\item 2\n",
       "\\item 3\n",
       "\\item 4\n",
       "\\item 5\n",
       "\\item 3\n",
       "\\item 2\n",
       "\\item 4\n",
       "\\item 5\n",
       "\\item 1\n",
       "\\item 9\n",
       "\\item 2\n",
       "\\item 4\n",
       "\\item 8\n",
       "\\item 7\n",
       "\\item 7\n",
       "\\item 8\n",
       "\\item NA\n",
       "\\item 3\n",
       "\\item 3\n",
       "\\end{enumerate*}\n"
      ],
      "text/markdown": [
       "1. 2\n",
       "2. 2\n",
       "3. 2\n",
       "4. 3\n",
       "5. 4\n",
       "6. 5\n",
       "7. 3\n",
       "8. 2\n",
       "9. 4\n",
       "10. 5\n",
       "11. 1\n",
       "12. 9\n",
       "13. 2\n",
       "14. 4\n",
       "15. 8\n",
       "16. 7\n",
       "17. 7\n",
       "18. 8\n",
       "19. NA\n",
       "20. 3\n",
       "21. 3\n",
       "\n",
       "\n"
      ],
      "text/plain": [
       " [1]  2  2  2  3  4  5  3  2  4  5  1  9  2  4  8  7  7  8 NA  3  3"
      ]
     },
     "metadata": {},
     "output_type": "display_data"
    }
   ],
   "source": [
    "day_off <- c(2, 2, 2, 3, 4, 5,\n",
    "             3, 2, 4, 5, 1, 9,\n",
    "             2, 4, 8, 7, 7, 8, NA, 3, 3)\n",
    "day_off"
   ]
  },
  {
   "cell_type": "markdown",
   "metadata": {},
   "source": [
    "table() crea una tabella con le frequenze dei vari valori ed ignora gli NA"
   ]
  },
  {
   "cell_type": "code",
   "execution_count": 9,
   "metadata": {
    "collapsed": false,
    "scrolled": true
   },
   "outputs": [
    {
     "data": {
      "text/plain": [
       "day_off\n",
       "1 2 3 4 5 7 8 9 \n",
       "1 5 4 3 2 2 2 1 "
      ]
     },
     "metadata": {},
     "output_type": "display_data"
    }
   ],
   "source": [
    "freq <- table(day_off)\n",
    "freq"
   ]
  },
  {
   "cell_type": "markdown",
   "metadata": {},
   "source": [
    "sum non è in grado di eliminare gli NA"
   ]
  },
  {
   "cell_type": "code",
   "execution_count": 10,
   "metadata": {
    "collapsed": false
   },
   "outputs": [
    {
     "data": {
      "text/plain": [
       "[1] NA"
      ]
     },
     "metadata": {},
     "output_type": "display_data"
    }
   ],
   "source": [
    "sum(day_off)"
   ]
  },
  {
   "cell_type": "code",
   "execution_count": 11,
   "metadata": {
    "collapsed": false
   },
   "outputs": [
    {
     "data": {
      "text/html": [
       "84"
      ],
      "text/latex": [
       "84"
      ],
      "text/markdown": [
       "84"
      ],
      "text/plain": [
       "[1] 84"
      ]
     },
     "metadata": {},
     "output_type": "display_data"
    }
   ],
   "source": [
    "sum(day_off, na.rm=T)"
   ]
  },
  {
   "cell_type": "code",
   "execution_count": 12,
   "metadata": {
    "collapsed": false
   },
   "outputs": [
    {
     "data": {
      "text/html": [
       "<strong>1:</strong> 1"
      ],
      "text/latex": [
       "\\textbf{1:} 1"
      ],
      "text/markdown": [
       "**1:** 1"
      ],
      "text/plain": [
       "1 \n",
       "1 "
      ]
     },
     "metadata": {},
     "output_type": "display_data"
    }
   ],
   "source": [
    "freq[1]"
   ]
  },
  {
   "cell_type": "code",
   "execution_count": 14,
   "metadata": {
    "collapsed": false
   },
   "outputs": [
    {
     "data": {
      "text/html": [
       "<table>\n",
       "<thead><tr><th></th><th scope=col>day_off</th></tr></thead>\n",
       "<tbody>\n",
       "\t<tr><th scope=row>1</th><td>1</td></tr>\n",
       "\t<tr><th scope=row>2</th><td>5</td></tr>\n",
       "\t<tr><th scope=row>3</th><td>4</td></tr>\n",
       "\t<tr><th scope=row>4</th><td>3</td></tr>\n",
       "\t<tr><th scope=row>5</th><td>2</td></tr>\n",
       "\t<tr><th scope=row>7</th><td>2</td></tr>\n",
       "\t<tr><th scope=row>8</th><td>2</td></tr>\n",
       "\t<tr><th scope=row>9</th><td>1</td></tr>\n",
       "</tbody>\n",
       "</table>\n"
      ],
      "text/latex": [
       "\\begin{tabular}{r|l}\n",
       "  & day\\_off\\\\\n",
       "\\hline\n",
       "\t1 & 1\\\\\n",
       "\t2 & 5\\\\\n",
       "\t3 & 4\\\\\n",
       "\t4 & 3\\\\\n",
       "\t5 & 2\\\\\n",
       "\t7 & 2\\\\\n",
       "\t8 & 2\\\\\n",
       "\t9 & 1\\\\\n",
       "\\end{tabular}\n"
      ],
      "text/plain": [
       "% latex table generated in R 3.3.1 by xtable 1.8-2 package\n",
       "% Tue Oct  4 11:11:26 2016\n",
       "\\begin{table}[ht]\n",
       "\\centering\n",
       "\\begin{tabular}{rr}\n",
       "  \\hline\n",
       " & day\\_off \\\\ \n",
       "  \\hline\n",
       "1 &   1 \\\\ \n",
       "  2 &   5 \\\\ \n",
       "  3 &   4 \\\\ \n",
       "  4 &   3 \\\\ \n",
       "  5 &   2 \\\\ \n",
       "  7 &   2 \\\\ \n",
       "  8 &   2 \\\\ \n",
       "  9 &   1 \\\\ \n",
       "   \\hline\n",
       "\\end{tabular}\n",
       "\\end{table}"
      ]
     },
     "metadata": {},
     "output_type": "display_data"
    }
   ],
   "source": [
    "library(xtable)\n",
    "xtable(freq)"
   ]
  },
  {
   "cell_type": "markdown",
   "metadata": {},
   "source": [
    "Quanti lavoratori sono stati a casa almeno 2 giorni?\n",
    "Quanti da 3 a 5 giorni?"
   ]
  },
  {
   "cell_type": "code",
   "execution_count": 16,
   "metadata": {
    "collapsed": false
   },
   "outputs": [
    {
     "data": {
      "text/html": [
       "<strong>1:</strong> 19"
      ],
      "text/latex": [
       "\\textbf{1:} 19"
      ],
      "text/markdown": [
       "**1:** 19"
      ],
      "text/plain": [
       " 1 \n",
       "19 "
      ]
     },
     "metadata": {},
     "output_type": "display_data"
    }
   ],
   "source": [
    "almeno.2.giorni <- sum(freq) - freq[1]\n",
    "almeno.2.giorni"
   ]
  },
  {
   "cell_type": "code",
   "execution_count": null,
   "metadata": {
    "collapsed": true
   },
   "outputs": [],
   "source": [
    "da.3.a.5.giorni <- 0\n",
    "for d in freq"
   ]
  },
  {
   "cell_type": "code",
   "execution_count": 17,
   "metadata": {
    "collapsed": false
   },
   "outputs": [
    {
     "data": {
      "image/png": "[encoded data removed]",
      "text/plain": [
       "plot without title"
      ]
     },
     "metadata": {
      "image/svg+xml": {
       "isolated": true
      }
     },
     "output_type": "display_data"
    }
   ],
   "source": [
    "plot(day_off)"
   ]
  },
  {
   "cell_type": "code",
   "execution_count": 18,
   "metadata": {
    "collapsed": false,
    "scrolled": false
   },
   "outputs": [
    {
     "data": {
      "image/png": "[encoded data removed]",
      "text/plain": [
       "plot without title"
      ]
     },
     "metadata": {
      "image/svg+xml": {
       "isolated": true
      }
     },
     "output_type": "display_data"
    }
   ],
   "source": [
    "plot(freq, type=\"p\", bg=\"black\", pch=21)\n",
    "lines(freq)"
   ]
  },
  {
   "cell_type": "code",
   "execution_count": 19,
   "metadata": {
    "collapsed": false,
    "scrolled": false
   },
   "outputs": [
    {
     "data": {
      "image/png": "[encoded data removed]",
      "text/plain": [
       "plot without title"
      ]
     },
     "metadata": {
      "image/svg+xml": {
       "isolated": true
      }
     },
     "output_type": "display_data"
    }
   ],
   "source": [
    "barplot(freq)"
   ]
  },
  {
   "cell_type": "code",
   "execution_count": 20,
   "metadata": {
    "collapsed": false
   },
   "outputs": [
    {
     "data": {
      "image/png": "[encoded data removed]",
      "text/plain": [
       "plot without title"
      ]
     },
     "metadata": {
      "image/svg+xml": {
       "isolated": true
      }
     },
     "output_type": "display_data"
    }
   ],
   "source": [
    "plot(freq, type=\"b\")"
   ]
  },
  {
   "cell_type": "code",
   "execution_count": 22,
   "metadata": {
    "collapsed": false
   },
   "outputs": [
    {
     "data": {
      "text/plain": [
       "day_off\n",
       "   1    2    3    4    5    7    8    9 \n",
       "0.05 0.25 0.20 0.15 0.10 0.10 0.10 0.05 "
      ]
     },
     "metadata": {},
     "output_type": "display_data"
    }
   ],
   "source": [
    "norm_freq = freq / sum(freq)\n",
    "norm_freq"
   ]
  },
  {
   "cell_type": "code",
   "execution_count": 23,
   "metadata": {
    "collapsed": false
   },
   "outputs": [
    {
     "data": {
      "image/png": "[encoded data removed]",
      "text/plain": [
       "plot without title"
      ]
     },
     "metadata": {
      "image/svg+xml": {
       "isolated": true
      }
     },
     "output_type": "display_data"
    }
   ],
   "source": [
    "plot(norm_freq, type=\"b\")"
   ]
  },
  {
   "cell_type": "markdown",
   "metadata": {},
   "source": [
    "Potente strumento Data Frame per creare tabelle"
   ]
  },
  {
   "cell_type": "code",
   "execution_count": 24,
   "metadata": {
    "collapsed": false
   },
   "outputs": [
    {
     "data": {
      "text/html": [
       "<table>\n",
       "<thead><tr><th></th><th scope=col>years</th><th scope=col>names</th><th scope=col>points</th></tr></thead>\n",
       "<tbody>\n",
       "\t<tr><th scope=row>1</th><td>2001</td><td>Bubu</td><td>123 </td></tr>\n",
       "\t<tr><th scope=row>2</th><td>2002   </td><td>Settete</td><td>123    </td></tr>\n",
       "\t<tr><th scope=row>3</th><td>2003</td><td>Gigi</td><td>442 </td></tr>\n",
       "\t<tr><th scope=row>4</th><td>2004</td><td>Caco</td><td>22  </td></tr>\n",
       "\t<tr><th scope=row>5</th><td>2005</td><td>Bubu</td><td>321 </td></tr>\n",
       "</tbody>\n",
       "</table>\n"
      ],
      "text/latex": [
       "\\begin{tabular}{r|lll}\n",
       "  & years & names & points\\\\\n",
       "\\hline\n",
       "\t1 & 2001 & Bubu & 123 \\\\\n",
       "\t2 & 2002    & Settete & 123    \\\\\n",
       "\t3 & 2003 & Gigi & 442 \\\\\n",
       "\t4 & 2004 & Caco & 22  \\\\\n",
       "\t5 & 2005 & Bubu & 321 \\\\\n",
       "\\end{tabular}\n"
      ],
      "text/plain": [
       "  years   names points\n",
       "1  2001    Bubu    123\n",
       "2  2002 Settete    123\n",
       "3  2003    Gigi    442\n",
       "4  2004    Caco     22\n",
       "5  2005    Bubu    321"
      ]
     },
     "metadata": {},
     "output_type": "display_data"
    }
   ],
   "source": [
    "years <- c(2001:2005)\n",
    "names <- c(\"Bubu\", \"Settete\", \"Gigi\", \"Caco\", \"Bubu\")\n",
    "points <- c(123, 123, 442, 22, 321)\n",
    "\n",
    "masters <- data.frame(years, names, points)\n",
    "masters"
   ]
  },
  {
   "cell_type": "code",
   "execution_count": 25,
   "metadata": {
    "collapsed": false,
    "scrolled": false
   },
   "outputs": [
    {
     "data": {
      "text/html": [
       "<table>\n",
       "<thead><tr><th></th><th scope=col>names</th></tr></thead>\n",
       "<tbody>\n",
       "\t<tr><th scope=row>1</th><td>Bubu</td></tr>\n",
       "\t<tr><th scope=row>2</th><td>Settete</td></tr>\n",
       "\t<tr><th scope=row>3</th><td>Gigi</td></tr>\n",
       "\t<tr><th scope=row>4</th><td>Caco</td></tr>\n",
       "\t<tr><th scope=row>5</th><td>Bubu</td></tr>\n",
       "</tbody>\n",
       "</table>\n"
      ],
      "text/latex": [
       "\\begin{tabular}{r|l}\n",
       "  & names\\\\\n",
       "\\hline\n",
       "\t1 & Bubu\\\\\n",
       "\t2 & Settete\\\\\n",
       "\t3 & Gigi\\\\\n",
       "\t4 & Caco\\\\\n",
       "\t5 & Bubu\\\\\n",
       "\\end{tabular}\n"
      ],
      "text/plain": [
       "    names\n",
       "1    Bubu\n",
       "2 Settete\n",
       "3    Gigi\n",
       "4    Caco\n",
       "5    Bubu"
      ]
     },
     "metadata": {},
     "output_type": "display_data"
    }
   ],
   "source": [
    "masters[2]"
   ]
  },
  {
   "cell_type": "code",
   "execution_count": 26,
   "metadata": {
    "collapsed": false
   },
   "outputs": [
    {
     "data": {
      "text/html": [
       "<table>\n",
       "<thead><tr><th></th><th scope=col>names</th><th scope=col>points</th></tr></thead>\n",
       "<tbody>\n",
       "\t<tr><th scope=row>1</th><td>Bubu</td><td>123 </td></tr>\n",
       "\t<tr><th scope=row>2</th><td>Settete</td><td>123    </td></tr>\n",
       "\t<tr><th scope=row>3</th><td>Gigi</td><td>442 </td></tr>\n",
       "\t<tr><th scope=row>4</th><td>Caco</td><td>22  </td></tr>\n",
       "\t<tr><th scope=row>5</th><td>Bubu</td><td>321 </td></tr>\n",
       "</tbody>\n",
       "</table>\n"
      ],
      "text/latex": [
       "\\begin{tabular}{r|ll}\n",
       "  & names & points\\\\\n",
       "\\hline\n",
       "\t1 & Bubu & 123 \\\\\n",
       "\t2 & Settete & 123    \\\\\n",
       "\t3 & Gigi & 442 \\\\\n",
       "\t4 & Caco & 22  \\\\\n",
       "\t5 & Bubu & 321 \\\\\n",
       "\\end{tabular}\n"
      ],
      "text/plain": [
       "    names points\n",
       "1    Bubu    123\n",
       "2 Settete    123\n",
       "3    Gigi    442\n",
       "4    Caco     22\n",
       "5    Bubu    321"
      ]
     },
     "metadata": {},
     "output_type": "display_data"
    }
   ],
   "source": [
    "masters[c(\"names\", \"points\")]"
   ]
  },
  {
   "cell_type": "code",
   "execution_count": 28,
   "metadata": {
    "collapsed": false
   },
   "outputs": [
    {
     "data": {
      "text/html": [
       "<table>\n",
       "<thead><tr><th></th><th scope=col>years</th><th scope=col>names</th><th scope=col>points</th></tr></thead>\n",
       "<tbody>\n",
       "\t<tr><th scope=row>2</th><td>2002   </td><td>Settete</td><td>123    </td></tr>\n",
       "\t<tr><th scope=row>5</th><td>2005</td><td>Bubu</td><td>321 </td></tr>\n",
       "</tbody>\n",
       "</table>\n"
      ],
      "text/latex": [
       "\\begin{tabular}{r|lll}\n",
       "  & years & names & points\\\\\n",
       "\\hline\n",
       "\t2 & 2002    & Settete & 123    \\\\\n",
       "\t5 & 2005 & Bubu & 321 \\\\\n",
       "\\end{tabular}\n"
      ],
      "text/plain": [
       "  years   names points\n",
       "2  2002 Settete    123\n",
       "5  2005    Bubu    321"
      ]
     },
     "metadata": {},
     "output_type": "display_data"
    }
   ],
   "source": [
    "masters[c(2, 5),]"
   ]
  },
  {
   "cell_type": "code",
   "execution_count": 29,
   "metadata": {
    "collapsed": false
   },
   "outputs": [
    {
     "data": {
      "text/html": [
       "<table>\n",
       "<thead><tr><th></th><th scope=col>names</th><th scope=col>points</th></tr></thead>\n",
       "<tbody>\n",
       "\t<tr><th scope=row>2</th><td>Settete</td><td>123    </td></tr>\n",
       "\t<tr><th scope=row>5</th><td>Bubu</td><td>321 </td></tr>\n",
       "</tbody>\n",
       "</table>\n"
      ],
      "text/latex": [
       "\\begin{tabular}{r|ll}\n",
       "  & names & points\\\\\n",
       "\\hline\n",
       "\t2 & Settete & 123    \\\\\n",
       "\t5 & Bubu & 321 \\\\\n",
       "\\end{tabular}\n"
      ],
      "text/plain": [
       "    names points\n",
       "2 Settete    123\n",
       "5    Bubu    321"
      ]
     },
     "metadata": {},
     "output_type": "display_data"
    }
   ],
   "source": [
    "masters[c(2, 5), c(2, 3)]"
   ]
  },
  {
   "cell_type": "code",
   "execution_count": 30,
   "metadata": {
    "collapsed": false
   },
   "outputs": [
    {
     "data": {
      "text/html": [
       "3"
      ],
      "text/latex": [
       "3"
      ],
      "text/markdown": [
       "3"
      ],
      "text/plain": [
       "[1] 3"
      ]
     },
     "metadata": {},
     "output_type": "display_data"
    }
   ],
   "source": [
    "length(masters)"
   ]
  },
  {
   "cell_type": "code",
   "execution_count": 31,
   "metadata": {
    "collapsed": false
   },
   "outputs": [
    {
     "data": {
      "text/html": [
       "5"
      ],
      "text/latex": [
       "5"
      ],
      "text/markdown": [
       "5"
      ],
      "text/plain": [
       "[1] 5"
      ]
     },
     "metadata": {},
     "output_type": "display_data"
    }
   ],
   "source": [
    "nrow(masters)"
   ]
  },
  {
   "cell_type": "code",
   "execution_count": 34,
   "metadata": {
    "collapsed": false
   },
   "outputs": [
    {
     "data": {
      "image/png": "[encoded data removed]",
      "text/plain": [
       "plot without title"
      ]
     },
     "metadata": {
      "image/svg+xml": {
       "isolated": true
      }
     },
     "output_type": "display_data"
    }
   ],
   "source": [
    "points_norm_freq <- round(table(masters$points) / nrow(masters), digits=3)\n",
    "plot(points_norm_freq, type=\"p\", bg=\"black\", pch=21)\n",
    "lines(points_norm_freq)"
   ]
  },
  {
   "cell_type": "code",
   "execution_count": 36,
   "metadata": {
    "collapsed": false
   },
   "outputs": [
    {
     "data": {
      "text/html": [
       "<table>\n",
       "<thead><tr><th></th><th scope=col>weapons</th><th scope=col>percentage</th></tr></thead>\n",
       "<tbody>\n",
       "\t<tr><th scope=row>1</th><td>Pistola</td><td>52     </td></tr>\n",
       "\t<tr><th scope=row>2</th><td>Coltello</td><td>18      </td></tr>\n",
       "\t<tr><th scope=row>3</th><td>Fucile a Pallettoni</td><td>7                  </td></tr>\n",
       "\t<tr><th scope=row>4</th><td>Fucile a Proiettili</td><td>4                  </td></tr>\n",
       "\t<tr><th scope=row>5</th><td>Arma Personale</td><td>6             </td></tr>\n",
       "\t<tr><th scope=row>6</th><td>Altro</td><td>13   </td></tr>\n",
       "</tbody>\n",
       "</table>\n"
      ],
      "text/latex": [
       "\\begin{tabular}{r|ll}\n",
       "  & weapons & percentage\\\\\n",
       "\\hline\n",
       "\t1 & Pistola & 52     \\\\\n",
       "\t2 & Coltello & 18      \\\\\n",
       "\t3 & Fucile a Pallettoni & 7                  \\\\\n",
       "\t4 & Fucile a Proiettili & 4                  \\\\\n",
       "\t5 & Arma Personale & 6             \\\\\n",
       "\t6 & Altro & 13   \\\\\n",
       "\\end{tabular}\n"
      ],
      "text/plain": [
       "              weapons percentage\n",
       "1             Pistola         52\n",
       "2            Coltello         18\n",
       "3 Fucile a Pallettoni          7\n",
       "4 Fucile a Proiettili          4\n",
       "5      Arma Personale          6\n",
       "6               Altro         13"
      ]
     },
     "metadata": {},
     "output_type": "display_data"
    },
    {
     "data": {
      "image/png": "[encoded data removed]",
      "text/plain": [
       "plot without title"
      ]
     },
     "metadata": {
      "image/svg+xml": {
       "isolated": true
      }
     },
     "output_type": "display_data"
    }
   ],
   "source": [
    "weapons <- c(\"Pistola\", \"Coltello\", \"Fucile a Pallettoni\", \"Fucile a Proiettili\", \"Arma Personale\", \"Altro\")\n",
    "percentage <- c(52, 18, 7, 4, 6, 13)\n",
    "data.frame(weapons, percentage)\n",
    "options(repr.plot.height = 6)\n",
    "pie(percentage, labels=weapons)"
   ]
  },
  {
   "cell_type": "code",
   "execution_count": 37,
   "metadata": {
    "collapsed": false
   },
   "outputs": [
    {
     "data": {
      "text/html": [
       "<ol class=list-inline>\n",
       "\t<li>177</li>\n",
       "\t<li>178</li>\n",
       "\t<li>178</li>\n",
       "\t<li>179</li>\n",
       "\t<li>185</li>\n",
       "\t<li>188</li>\n",
       "\t<li>189</li>\n",
       "\t<li>195</li>\n",
       "\t<li>198</li>\n",
       "\t<li>199</li>\n",
       "\t<li>199</li>\n",
       "\t<li>199</li>\n",
       "\t<li>200</li>\n",
       "\t<li>201</li>\n",
       "\t<li>202</li>\n",
       "\t<li>202</li>\n",
       "\t<li>209</li>\n",
       "\t<li>209</li>\n",
       "\t<li>213</li>\n",
       "\t<li>219</li>\n",
       "\t<li>220</li>\n",
       "</ol>\n"
      ],
      "text/latex": [
       "\\begin{enumerate*}\n",
       "\\item 177\n",
       "\\item 178\n",
       "\\item 178\n",
       "\\item 179\n",
       "\\item 185\n",
       "\\item 188\n",
       "\\item 189\n",
       "\\item 195\n",
       "\\item 198\n",
       "\\item 199\n",
       "\\item 199\n",
       "\\item 199\n",
       "\\item 200\n",
       "\\item 201\n",
       "\\item 202\n",
       "\\item 202\n",
       "\\item 209\n",
       "\\item 209\n",
       "\\item 213\n",
       "\\item 219\n",
       "\\item 220\n",
       "\\end{enumerate*}\n"
      ],
      "text/markdown": [
       "1. 177\n",
       "2. 178\n",
       "3. 178\n",
       "4. 179\n",
       "5. 185\n",
       "6. 188\n",
       "7. 189\n",
       "8. 195\n",
       "9. 198\n",
       "10. 199\n",
       "11. 199\n",
       "12. 199\n",
       "13. 200\n",
       "14. 201\n",
       "15. 202\n",
       "16. 202\n",
       "17. 209\n",
       "18. 209\n",
       "19. 213\n",
       "20. 219\n",
       "21. 220\n",
       "\n",
       "\n"
      ],
      "text/plain": [
       " [1] 177 178 178 179 185 188 189 195 198 199 199 199 200 201 202 202 209 209 213\n",
       "[20] 219 220"
      ]
     },
     "metadata": {},
     "output_type": "display_data"
    }
   ],
   "source": [
    "cholesterol <- c(178, 199, 202, 220, 209, 200, 209, 201, 198, 199, 202, 199,\n",
    "                 178, 188, 179, 177, 219, 213, 185, 189, 195)\n",
    "sort(cholesterol)"
   ]
  },
  {
   "cell_type": "code",
   "execution_count": 38,
   "metadata": {
    "collapsed": false
   },
   "outputs": [
    {
     "data": {
      "image/png": "[encoded data removed]",
      "text/plain": [
       "Plot with title “Histogram of cholesterol”"
      ]
     },
     "metadata": {
      "image/svg+xml": {
       "isolated": true
      }
     },
     "output_type": "display_data"
    }
   ],
   "source": [
    "hist(cholesterol, breaks=6)"
   ]
  },
  {
   "cell_type": "code",
   "execution_count": 39,
   "metadata": {
    "collapsed": false
   },
   "outputs": [
    {
     "data": {
      "text/html": [
       "2540"
      ],
      "text/latex": [
       "2540"
      ],
      "text/markdown": [
       "2540"
      ],
      "text/plain": [
       "[1] 2540"
      ]
     },
     "metadata": {},
     "output_type": "display_data"
    },
    {
     "data": {
      "text/html": [
       "731"
      ],
      "text/latex": [
       "731"
      ],
      "text/markdown": [
       "731"
      ],
      "text/plain": [
       "[1] 731"
      ]
     },
     "metadata": {},
     "output_type": "display_data"
    }
   ],
   "source": [
    "pressure_30_40 <- c(3, 17, 118, 460, 768, 675, 312, 120, 45, 18, 3, 1)\n",
    "pressure_50_60 <- c(1, 2, 23, 57, 122, 149, 167, 73, 62, 35, 20, 9, 3, 5, 2, 1)\n",
    "sum(pressure_30_40)\n",
    "sum(pressure_50_60)"
   ]
  },
  {
   "cell_type": "code",
   "execution_count": 40,
   "metadata": {
    "collapsed": false,
    "scrolled": false
   },
   "outputs": [
    {
     "data": {
      "image/png": "[encoded data removed]",
      "text/plain": [
       "plot without title"
      ]
     },
     "metadata": {
      "image/svg+xml": {
       "isolated": true
      }
     },
     "output_type": "display_data"
    }
   ],
   "source": [
    "pressure_30_40_norm <- pressure_30_40 / sum(pressure_30_40) * 100\n",
    "pressure_50_60_norm <- pressure_50_60 / sum(pressure_50_60) * 100\n",
    "plot(pressure_30_40_norm, type=\"b\", col=\"green\")\n",
    "lines(pressure_50_60_norm, type=\"b\", pch=2, col=\"blue\")"
   ]
  },
  {
   "cell_type": "markdown",
   "metadata": {},
   "source": [
    "Le frequenze accumulate sono quelle riguardanti tutti i dati <= di un certo dato"
   ]
  },
  {
   "cell_type": "code",
   "execution_count": 41,
   "metadata": {
    "collapsed": false
   },
   "outputs": [
    {
     "data": {
      "text/html": [
       "<ol class=list-inline>\n",
       "\t<li>1</li>\n",
       "\t<li>3</li>\n",
       "\t<li>26</li>\n",
       "\t<li>83</li>\n",
       "\t<li>205</li>\n",
       "\t<li>354</li>\n",
       "\t<li>521</li>\n",
       "\t<li>594</li>\n",
       "\t<li>656</li>\n",
       "\t<li>691</li>\n",
       "\t<li>711</li>\n",
       "\t<li>720</li>\n",
       "\t<li>723</li>\n",
       "\t<li>728</li>\n",
       "\t<li>730</li>\n",
       "\t<li>731</li>\n",
       "</ol>\n"
      ],
      "text/latex": [
       "\\begin{enumerate*}\n",
       "\\item 1\n",
       "\\item 3\n",
       "\\item 26\n",
       "\\item 83\n",
       "\\item 205\n",
       "\\item 354\n",
       "\\item 521\n",
       "\\item 594\n",
       "\\item 656\n",
       "\\item 691\n",
       "\\item 711\n",
       "\\item 720\n",
       "\\item 723\n",
       "\\item 728\n",
       "\\item 730\n",
       "\\item 731\n",
       "\\end{enumerate*}\n"
      ],
      "text/markdown": [
       "1. 1\n",
       "2. 3\n",
       "3. 26\n",
       "4. 83\n",
       "5. 205\n",
       "6. 354\n",
       "7. 521\n",
       "8. 594\n",
       "9. 656\n",
       "10. 691\n",
       "11. 711\n",
       "12. 720\n",
       "13. 723\n",
       "14. 728\n",
       "15. 730\n",
       "16. 731\n",
       "\n",
       "\n"
      ],
      "text/plain": [
       " [1]   1   3  26  83 205 354 521 594 656 691 711 720 723 728 730 731"
      ]
     },
     "metadata": {},
     "output_type": "display_data"
    }
   ],
   "source": [
    "cumsum(pressure_50_60)"
   ]
  },
  {
   "cell_type": "code",
   "execution_count": 42,
   "metadata": {
    "collapsed": false,
    "scrolled": false
   },
   "outputs": [
    {
     "data": {
      "image/png": "[encoded data removed]",
      "text/plain": [
       "plot without title"
      ]
     },
     "metadata": {
      "image/svg+xml": {
       "isolated": true
      }
     },
     "output_type": "display_data"
    }
   ],
   "source": [
    "plot(cumsum(pressure_50_60), type=\"b\")"
   ]
  },
  {
   "cell_type": "markdown",
   "metadata": {},
   "source": [
    "Scatter plot, correlo coppie di valori"
   ]
  },
  {
   "cell_type": "code",
   "execution_count": 46,
   "metadata": {
    "collapsed": false
   },
   "outputs": [
    {
     "data": {
      "image/png": "[encoded data removed]",
      "text/plain": [
       "plot without title"
      ]
     },
     "metadata": {
      "image/svg+xml": {
       "isolated": true
      }
     },
     "output_type": "display_data"
    }
   ],
   "source": [
    "qi <- c(110, 107, 83, 87, 117, 104, 110, 118, 116, 94,\n",
    "        93, 101, 93, 76, 91, 84, 83, 112, 80, 91,\n",
    "        113, 124, 79, 116, 113, 94, 95, 104, 115, 90)\n",
    "salary <- c(68, 30, 13, 24, 40, 22, 25, 62, 45, 70,\n",
    "            15, 22, 18, 20, 14, 19, 16, 52, 11, 13,\n",
    "            29, 71, 19, 43, 44, 17, 15, 30, 63, 16)\n",
    "options(repr.plot.height=6)\n",
    "plot(qi, salary, pch=3)"
   ]
  },
  {
   "cell_type": "code",
   "execution_count": 47,
   "metadata": {
    "collapsed": false
   },
   "outputs": [
    {
     "data": {
      "image/png": "[encoded data removed]",
      "text/plain": [
       "plot without title"
      ]
     },
     "metadata": {
      "image/svg+xml": {
       "isolated": true
      }
     },
     "output_type": "display_data"
    }
   ],
   "source": [
    "plot(qi, salary, pch=3)\n",
    "abline(a=-58, b=0.88, col=\"blue\")"
   ]
  },
  {
   "cell_type": "code",
   "execution_count": null,
   "metadata": {
    "collapsed": true
   },
   "outputs": [],
   "source": []
  }
 ],
 "metadata": {
  "anaconda-cloud": {},
  "kernelspec": {
   "display_name": "R",
   "language": "R",
   "name": "ir"
  },
  "language_info": {
   "codemirror_mode": "r",
   "file_extension": ".r",
   "mimetype": "text/x-r-source",
   "name": "R",
   "pygments_lexer": "r",
   "version": "3.3.1"
  }
 },
 "nbformat": 4,
 "nbformat_minor": 0
}
