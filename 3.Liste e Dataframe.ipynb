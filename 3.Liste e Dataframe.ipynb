{
 "cells": [
  {
   "cell_type": "markdown",
   "metadata": {},
   "source": [
    "# Esercizio 1\n",
    "\n",
    "Siano dati i seguenti nominativi di donatori di sangue ed i corrispondenti gruppi sanguigni (GS):"
   ]
  },
  {
   "cell_type": "code",
   "execution_count": 2,
   "metadata": {
    "collapsed": true
   },
   "outputs": [],
   "source": [
    "totnomi <- c(\"Luca\",\"Mario\", \"Tommaso\", \"Marco\", \"Gianni\", \"Pino\", \"Alessia\", \"Francesca\", \"Anna\", \"Stefania\", \"Viola\", \"Cristina\")\n",
    "totcognomi <- c(\"Rossi\", \"Neri\", \"Bianchi\", \"Verdi\", \"Brambilla\", \"Ferrari\", \"Russo\", \"Esposito\", \"Romani\", \"Marino\", \"Colombo\", \"Conti\", \"Gallo\", \"Greco\")\n",
    "totgruppi <- c(\"0\", \"A\", \"B\", \"AB\")"
   ]
  },
  {
   "cell_type": "markdown",
   "metadata": {},
   "source": [
    "Estrarre dai vettori 100 campioni ed inserire nomi, cognomi e GS in un dataframe con colonne etichettate\n",
    "\n",
    "1. Rappresentare i gruppi sanguigni in una tabella delle frequenze (assolute)\n",
    "2. Rappresentare i gruppi sanguigni in una tabella delle frequenze relative\n",
    "3. Restituire i nomi ed i cognomi delle persone che hanno gruppo sanguigno B\n",
    "4. Restituire i cognomi delle persone che hanno gruppo sanguigno B e che si chiamano Cristina"
   ]
  },
  {
   "cell_type": "code",
   "execution_count": 5,
   "metadata": {
    "collapsed": false
   },
   "outputs": [],
   "source": [
    "campnomi <- sample(totnomi, 100, replace=TRUE)\n",
    "campcognomi <- sample(totcognomi, 100, replace=TRUE)\n",
    "campgruppi <- sample(totgruppi, 100, replace=TRUE)\n",
    "donatori <- data.frame(nomi = campnomi, cognomi = campcognomi, gruppi = campgruppi)"
   ]
  },
  {
   "cell_type": "code",
   "execution_count": 9,
   "metadata": {
    "collapsed": false
   },
   "outputs": [
    {
     "data": {
      "text/plain": [
       "\n",
       " 0  A AB  B \n",
       "29 26 31 14 "
      ]
     },
     "metadata": {},
     "output_type": "display_data"
    }
   ],
   "source": [
    "grassfreq <- table(donatori[[\"gruppi\"]])\n",
    "grassfreq"
   ]
  },
  {
   "cell_type": "code",
   "execution_count": 11,
   "metadata": {
    "collapsed": false
   },
   "outputs": [
    {
     "data": {
      "text/plain": [
       "\n",
       "   0    A   AB    B \n",
       "0.29 0.26 0.31 0.14 "
      ]
     },
     "metadata": {},
     "output_type": "display_data"
    }
   ],
   "source": [
    "grrelfreq <- grassfreq/length(donatori[[1]])\n",
    "grrelfreq"
   ]
  },
  {
   "cell_type": "code",
   "execution_count": 12,
   "metadata": {
    "collapsed": false
   },
   "outputs": [
    {
     "data": {
      "text/html": [
       "<table>\n",
       "<thead><tr><th></th><th scope=col>nomi</th><th scope=col>cognomi</th></tr></thead>\n",
       "<tbody>\n",
       "\t<tr><th scope=row>3</th><td>Tommaso  </td><td>Marino   </td></tr>\n",
       "\t<tr><th scope=row>9</th><td>Cristina </td><td>Conti    </td></tr>\n",
       "\t<tr><th scope=row>19</th><td>Luca     </td><td>Esposito </td></tr>\n",
       "\t<tr><th scope=row>32</th><td>Alessia  </td><td>Verdi    </td></tr>\n",
       "\t<tr><th scope=row>34</th><td>Francesca</td><td>Neri     </td></tr>\n",
       "\t<tr><th scope=row>48</th><td>Alessia  </td><td>Brambilla</td></tr>\n",
       "\t<tr><th scope=row>57</th><td>Alessia  </td><td>Rossi    </td></tr>\n",
       "\t<tr><th scope=row>60</th><td>Alessia  </td><td>Verdi    </td></tr>\n",
       "\t<tr><th scope=row>64</th><td>Mario    </td><td>Bianchi  </td></tr>\n",
       "\t<tr><th scope=row>66</th><td>Luca     </td><td>Colombo  </td></tr>\n",
       "\t<tr><th scope=row>82</th><td>Pino     </td><td>Bianchi  </td></tr>\n",
       "\t<tr><th scope=row>86</th><td>Pino     </td><td>Greco    </td></tr>\n",
       "\t<tr><th scope=row>90</th><td>Mario    </td><td>Esposito </td></tr>\n",
       "\t<tr><th scope=row>92</th><td>Marco    </td><td>Ferrari  </td></tr>\n",
       "</tbody>\n",
       "</table>\n"
      ],
      "text/latex": [
       "\\begin{tabular}{r|ll}\n",
       "  & nomi & cognomi\\\\\n",
       "\\hline\n",
       "\t3 & Tommaso   & Marino   \\\\\n",
       "\t9 & Cristina  & Conti    \\\\\n",
       "\t19 & Luca      & Esposito \\\\\n",
       "\t32 & Alessia   & Verdi    \\\\\n",
       "\t34 & Francesca & Neri     \\\\\n",
       "\t48 & Alessia   & Brambilla\\\\\n",
       "\t57 & Alessia   & Rossi    \\\\\n",
       "\t60 & Alessia   & Verdi    \\\\\n",
       "\t64 & Mario     & Bianchi  \\\\\n",
       "\t66 & Luca      & Colombo  \\\\\n",
       "\t82 & Pino      & Bianchi  \\\\\n",
       "\t86 & Pino      & Greco    \\\\\n",
       "\t90 & Mario     & Esposito \\\\\n",
       "\t92 & Marco     & Ferrari  \\\\\n",
       "\\end{tabular}\n"
      ],
      "text/plain": [
       "   nomi      cognomi  \n",
       "3  Tommaso   Marino   \n",
       "9  Cristina  Conti    \n",
       "19 Luca      Esposito \n",
       "32 Alessia   Verdi    \n",
       "34 Francesca Neri     \n",
       "48 Alessia   Brambilla\n",
       "57 Alessia   Rossi    \n",
       "60 Alessia   Verdi    \n",
       "64 Mario     Bianchi  \n",
       "66 Luca      Colombo  \n",
       "82 Pino      Bianchi  \n",
       "86 Pino      Greco    \n",
       "90 Mario     Esposito \n",
       "92 Marco     Ferrari  "
      ]
     },
     "metadata": {},
     "output_type": "display_data"
    }
   ],
   "source": [
    "donatori[donatori$gruppi==\"B\", c(\"nomi\", \"cognomi\")]"
   ]
  },
  {
   "cell_type": "code",
   "execution_count": 14,
   "metadata": {
    "collapsed": false
   },
   "outputs": [
    {
     "data": {
      "text/html": [
       "Conti"
      ],
      "text/latex": [
       "Conti"
      ],
      "text/markdown": [
       "Conti"
      ],
      "text/plain": [
       "[1] Conti\n",
       "14 Levels: Bianchi Brambilla Colombo Conti Esposito Ferrari Gallo ... Verdi"
      ]
     },
     "metadata": {},
     "output_type": "display_data"
    }
   ],
   "source": [
    "donatori[donatori$gruppi==\"B\" & donatori$nomi==\"Cristina\", \"cognomi\"]"
   ]
  },
  {
   "cell_type": "markdown",
   "metadata": {},
   "source": [
    "# Esercizio 2\n",
    "\n",
    "1. Scaricare il dataset mtcars.csv\n",
    "2. Importare il dataset creando un dataframe\n",
    "3. Visualizzare la struttura del dataset\n",
    "4. Visualizzare le prime 6 righe del dataset\n",
    "5. Convertire i pesi (wt) da libbre a chilogrammi e sovrascrivere il dataframe (attenzione i valori iniziali sono 1000 lb)\n",
    "6. Stampare la riga dell’auto più pesante\n",
    "7. Calcolare la tabella delle frequenze assolute del numero dei cilindri (cyl)\n",
    "8. Determinare le auto che hanno 4 cilindri e più di 70 cavalli (hp) e stamparne modello (model) e peso (wt)(provate sia con subset che con [])"
   ]
  },
  {
   "cell_type": "code",
   "execution_count": 33,
   "metadata": {
    "collapsed": false
   },
   "outputs": [
    {
     "name": "stdout",
     "output_type": "stream",
     "text": [
      "'data.frame':\t32 obs. of  12 variables:\n",
      " $ model: Factor w/ 32 levels \"AMC Javelin\",..: 18 19 5 13 14 31 7 21 20 22 ...\n",
      " $ mpg  : num  21 21 22.8 21.4 18.7 18.1 14.3 24.4 22.8 19.2 ...\n",
      " $ cyl  : int  6 6 NA 6 8 6 8 4 4 6 ...\n",
      " $ disp : num  160 160 108 258 360 ...\n",
      " $ hp   : int  110 110 93 110 175 105 245 62 NA 123 ...\n",
      " $ drat : num  3.9 3.9 3.85 3.08 3.15 2.76 3.21 3.69 3.92 3.92 ...\n",
      " $ wt   : num  2.62 2.88 2.32 3.21 3.44 ...\n",
      " $ qsec : num  16.5 17 18.6 19.4 17 ...\n",
      " $ vs   : int  0 0 1 1 0 1 0 1 1 1 ...\n",
      " $ am   : int  1 1 1 0 0 0 0 0 0 0 ...\n",
      " $ gear : int  4 4 4 3 3 3 3 4 4 4 ...\n",
      " $ carb : int  4 4 1 1 2 1 4 2 2 4 ...\n"
     ]
    }
   ],
   "source": [
    "mtcars <- read.csv(file = \"mtcars.csv\")\n",
    "str(mtcars)"
   ]
  },
  {
   "cell_type": "code",
   "execution_count": 31,
   "metadata": {
    "collapsed": false
   },
   "outputs": [
    {
     "data": {
      "text/html": [
       "<table>\n",
       "<thead><tr><th scope=col>model</th><th scope=col>mpg</th><th scope=col>cyl</th><th scope=col>disp</th><th scope=col>hp</th><th scope=col>drat</th><th scope=col>wt</th><th scope=col>qsec</th><th scope=col>vs</th><th scope=col>am</th><th scope=col>gear</th><th scope=col>carb</th></tr></thead>\n",
       "<tbody>\n",
       "\t<tr><td>Mazda RX4        </td><td>21.0             </td><td> 6               </td><td>160              </td><td>110              </td><td>3.90             </td><td>2.620            </td><td>16.46            </td><td>0                </td><td>1                </td><td>4                </td><td>4                </td></tr>\n",
       "\t<tr><td>Mazda RX4 Wag    </td><td>21.0             </td><td> 6               </td><td>160              </td><td>110              </td><td>3.90             </td><td>2.875            </td><td>17.02            </td><td>0                </td><td>1                </td><td>4                </td><td>4                </td></tr>\n",
       "\t<tr><td>Datsun 710       </td><td>22.8             </td><td>NA               </td><td>108              </td><td> 93              </td><td>3.85             </td><td>2.320            </td><td>18.61            </td><td>1                </td><td>1                </td><td>4                </td><td>1                </td></tr>\n",
       "\t<tr><td>Hornet 4 Drive   </td><td>21.4             </td><td> 6               </td><td>258              </td><td>110              </td><td>3.08             </td><td>3.215            </td><td>19.44            </td><td>1                </td><td>0                </td><td>3                </td><td>1                </td></tr>\n",
       "\t<tr><td>Hornet Sportabout</td><td>18.7             </td><td> 8               </td><td>360              </td><td>175              </td><td>3.15             </td><td>3.440            </td><td>17.02            </td><td>0                </td><td>0                </td><td>3                </td><td>2                </td></tr>\n",
       "\t<tr><td>Valiant          </td><td>18.1             </td><td> 6               </td><td>225              </td><td>105              </td><td>2.76             </td><td>3.460            </td><td>20.22            </td><td>1                </td><td>0                </td><td>3                </td><td>1                </td></tr>\n",
       "</tbody>\n",
       "</table>\n"
      ],
      "text/latex": [
       "\\begin{tabular}{r|llllllllllll}\n",
       " model & mpg & cyl & disp & hp & drat & wt & qsec & vs & am & gear & carb\\\\\n",
       "\\hline\n",
       "\t Mazda RX4         & 21.0              &  6                & 160               & 110               & 3.90              & 2.620             & 16.46             & 0                 & 1                 & 4                 & 4                \\\\\n",
       "\t Mazda RX4 Wag     & 21.0              &  6                & 160               & 110               & 3.90              & 2.875             & 17.02             & 0                 & 1                 & 4                 & 4                \\\\\n",
       "\t Datsun 710        & 22.8              & NA                & 108               &  93               & 3.85              & 2.320             & 18.61             & 1                 & 1                 & 4                 & 1                \\\\\n",
       "\t Hornet 4 Drive    & 21.4              &  6                & 258               & 110               & 3.08              & 3.215             & 19.44             & 1                 & 0                 & 3                 & 1                \\\\\n",
       "\t Hornet Sportabout & 18.7              &  8                & 360               & 175               & 3.15              & 3.440             & 17.02             & 0                 & 0                 & 3                 & 2                \\\\\n",
       "\t Valiant           & 18.1              &  6                & 225               & 105               & 2.76              & 3.460             & 20.22             & 1                 & 0                 & 3                 & 1                \\\\\n",
       "\\end{tabular}\n"
      ],
      "text/plain": [
       "  model             mpg  cyl disp hp  drat wt    qsec  vs am gear carb\n",
       "1 Mazda RX4         21.0  6  160  110 3.90 2.620 16.46 0  1  4    4   \n",
       "2 Mazda RX4 Wag     21.0  6  160  110 3.90 2.875 17.02 0  1  4    4   \n",
       "3 Datsun 710        22.8 NA  108   93 3.85 2.320 18.61 1  1  4    1   \n",
       "4 Hornet 4 Drive    21.4  6  258  110 3.08 3.215 19.44 1  0  3    1   \n",
       "5 Hornet Sportabout 18.7  8  360  175 3.15 3.440 17.02 0  0  3    2   \n",
       "6 Valiant           18.1  6  225  105 2.76 3.460 20.22 1  0  3    1   "
      ]
     },
     "metadata": {},
     "output_type": "display_data"
    }
   ],
   "source": [
    "mtcars[1:6, ]"
   ]
  },
  {
   "cell_type": "code",
   "execution_count": 34,
   "metadata": {
    "collapsed": false
   },
   "outputs": [
    {
     "data": {
      "text/html": [
       "<table>\n",
       "<thead><tr><th scope=col>model</th><th scope=col>mpg</th><th scope=col>cyl</th><th scope=col>disp</th><th scope=col>hp</th><th scope=col>drat</th><th scope=col>wt</th><th scope=col>qsec</th><th scope=col>vs</th><th scope=col>am</th><th scope=col>gear</th><th scope=col>carb</th></tr></thead>\n",
       "<tbody>\n",
       "\t<tr><td>Mazda RX4        </td><td>21.0             </td><td> 6               </td><td>160              </td><td>110              </td><td>3.90             </td><td>1188.424         </td><td>16.46            </td><td>0                </td><td>1                </td><td>4                </td><td>4                </td></tr>\n",
       "\t<tr><td>Mazda RX4 Wag    </td><td>21.0             </td><td> 6               </td><td>160              </td><td>110              </td><td>3.90             </td><td>1304.091         </td><td>17.02            </td><td>0                </td><td>1                </td><td>4                </td><td>4                </td></tr>\n",
       "\t<tr><td>Datsun 710       </td><td>22.8             </td><td>NA               </td><td>108              </td><td> 93              </td><td>3.85             </td><td>1052.345         </td><td>18.61            </td><td>1                </td><td>1                </td><td>4                </td><td>1                </td></tr>\n",
       "\t<tr><td>Hornet 4 Drive   </td><td>21.4             </td><td> 6               </td><td>258              </td><td>110              </td><td>3.08             </td><td>1458.314         </td><td>19.44            </td><td>1                </td><td>0                </td><td>3                </td><td>1                </td></tr>\n",
       "\t<tr><td>Hornet Sportabout</td><td>18.7             </td><td> 8               </td><td>360              </td><td>175              </td><td>3.15             </td><td>1560.374         </td><td>17.02            </td><td>0                </td><td>0                </td><td>3                </td><td>2                </td></tr>\n",
       "\t<tr><td>Valiant          </td><td>18.1             </td><td> 6               </td><td>225              </td><td>105              </td><td>2.76             </td><td>1569.446         </td><td>20.22            </td><td>1                </td><td>0                </td><td>3                </td><td>1                </td></tr>\n",
       "</tbody>\n",
       "</table>\n"
      ],
      "text/latex": [
       "\\begin{tabular}{r|llllllllllll}\n",
       " model & mpg & cyl & disp & hp & drat & wt & qsec & vs & am & gear & carb\\\\\n",
       "\\hline\n",
       "\t Mazda RX4         & 21.0              &  6                & 160               & 110               & 3.90              & 1188.424          & 16.46             & 0                 & 1                 & 4                 & 4                \\\\\n",
       "\t Mazda RX4 Wag     & 21.0              &  6                & 160               & 110               & 3.90              & 1304.091          & 17.02             & 0                 & 1                 & 4                 & 4                \\\\\n",
       "\t Datsun 710        & 22.8              & NA                & 108               &  93               & 3.85              & 1052.345          & 18.61             & 1                 & 1                 & 4                 & 1                \\\\\n",
       "\t Hornet 4 Drive    & 21.4              &  6                & 258               & 110               & 3.08              & 1458.314          & 19.44             & 1                 & 0                 & 3                 & 1                \\\\\n",
       "\t Hornet Sportabout & 18.7              &  8                & 360               & 175               & 3.15              & 1560.374          & 17.02             & 0                 & 0                 & 3                 & 2                \\\\\n",
       "\t Valiant           & 18.1              &  6                & 225               & 105               & 2.76              & 1569.446          & 20.22             & 1                 & 0                 & 3                 & 1                \\\\\n",
       "\\end{tabular}\n"
      ],
      "text/plain": [
       "  model             mpg  cyl disp hp  drat wt       qsec  vs am gear carb\n",
       "1 Mazda RX4         21.0  6  160  110 3.90 1188.424 16.46 0  1  4    4   \n",
       "2 Mazda RX4 Wag     21.0  6  160  110 3.90 1304.091 17.02 0  1  4    4   \n",
       "3 Datsun 710        22.8 NA  108   93 3.85 1052.345 18.61 1  1  4    1   \n",
       "4 Hornet 4 Drive    21.4  6  258  110 3.08 1458.314 19.44 1  0  3    1   \n",
       "5 Hornet Sportabout 18.7  8  360  175 3.15 1560.374 17.02 0  0  3    2   \n",
       "6 Valiant           18.1  6  225  105 2.76 1569.446 20.22 1  0  3    1   "
      ]
     },
     "metadata": {},
     "output_type": "display_data"
    }
   ],
   "source": [
    "mtcars[[\"wt\"]] <- mtcars[[\"wt\"]]/0.0022046\n",
    "mtcars[1:6, ]"
   ]
  },
  {
   "cell_type": "code",
   "execution_count": 35,
   "metadata": {
    "collapsed": false
   },
   "outputs": [
    {
     "data": {
      "text/html": [
       "<table>\n",
       "<thead><tr><th></th><th scope=col>model</th><th scope=col>mpg</th><th scope=col>cyl</th><th scope=col>disp</th><th scope=col>hp</th><th scope=col>drat</th><th scope=col>wt</th><th scope=col>qsec</th><th scope=col>vs</th><th scope=col>am</th><th scope=col>gear</th><th scope=col>carb</th></tr></thead>\n",
       "<tbody>\n",
       "\t<tr><th scope=row>16</th><td>Lincoln Continental</td><td>10.4               </td><td>8                  </td><td>460                </td><td>215                </td><td>3                  </td><td>2460.31            </td><td>17.82              </td><td>0                  </td><td>0                  </td><td>3                  </td><td>4                  </td></tr>\n",
       "</tbody>\n",
       "</table>\n"
      ],
      "text/latex": [
       "\\begin{tabular}{r|llllllllllll}\n",
       "  & model & mpg & cyl & disp & hp & drat & wt & qsec & vs & am & gear & carb\\\\\n",
       "\\hline\n",
       "\t16 & Lincoln Continental & 10.4                & 8                   & 460                 & 215                 & 3                   & 2460.31             & 17.82               & 0                   & 0                   & 3                   & 4                  \\\\\n",
       "\\end{tabular}\n"
      ],
      "text/plain": [
       "   model               mpg  cyl disp hp  drat wt      qsec  vs am gear carb\n",
       "16 Lincoln Continental 10.4 8   460  215 3    2460.31 17.82 0  0  3    4   "
      ]
     },
     "metadata": {},
     "output_type": "display_data"
    }
   ],
   "source": [
    "mtcars[mtcars[[\"wt\"]]==max(mtcars[[\"wt\"]]), ]"
   ]
  },
  {
   "cell_type": "code",
   "execution_count": 36,
   "metadata": {
    "collapsed": false
   },
   "outputs": [
    {
     "data": {
      "text/plain": [
       "\n",
       " 4  6  8 \n",
       "10  7 14 "
      ]
     },
     "metadata": {},
     "output_type": "display_data"
    }
   ],
   "source": [
    "table(mtcars[[\"cyl\"]])"
   ]
  },
  {
   "cell_type": "code",
   "execution_count": 43,
   "metadata": {
    "collapsed": false
   },
   "outputs": [
    {
     "data": {
      "text/html": [
       "<table>\n",
       "<thead><tr><th></th><th scope=col>model</th><th scope=col>wt</th></tr></thead>\n",
       "<tbody>\n",
       "\t<tr><th scope=row>21</th><td>Toyota Corona</td><td>1118.1167    </td></tr>\n",
       "\t<tr><th scope=row>27</th><td>Porsche 914-2</td><td> 970.6976    </td></tr>\n",
       "\t<tr><th scope=row>28</th><td>Lotus Europa </td><td> 686.2923    </td></tr>\n",
       "\t<tr><th scope=row>32</th><td>Volvo 142E   </td><td>1260.9997    </td></tr>\n",
       "</tbody>\n",
       "</table>\n"
      ],
      "text/latex": [
       "\\begin{tabular}{r|ll}\n",
       "  & model & wt\\\\\n",
       "\\hline\n",
       "\t21 & Toyota Corona & 1118.1167    \\\\\n",
       "\t27 & Porsche 914-2 &  970.6976    \\\\\n",
       "\t28 & Lotus Europa  &  686.2923    \\\\\n",
       "\t32 & Volvo 142E    & 1260.9997    \\\\\n",
       "\\end{tabular}\n"
      ],
      "text/plain": [
       "   model         wt       \n",
       "21 Toyota Corona 1118.1167\n",
       "27 Porsche 914-2  970.6976\n",
       "28 Lotus Europa   686.2923\n",
       "32 Volvo 142E    1260.9997"
      ]
     },
     "metadata": {},
     "output_type": "display_data"
    }
   ],
   "source": [
    "mtcars[mtcars[[\"cyl\"]]==4 & mtcars[[\"hp\"]]>70 & !is.na(mtcars[[\"cyl\"]]) & !is.na(mtcars[[\"hp\"]]), c(\"model\", \"wt\")]"
   ]
  },
  {
   "cell_type": "code",
   "execution_count": 45,
   "metadata": {
    "collapsed": false
   },
   "outputs": [
    {
     "data": {
      "text/html": [
       "<table>\n",
       "<thead><tr><th></th><th scope=col>model</th><th scope=col>wt</th></tr></thead>\n",
       "<tbody>\n",
       "\t<tr><th scope=row>21</th><td>Toyota Corona</td><td>1118.1167    </td></tr>\n",
       "\t<tr><th scope=row>27</th><td>Porsche 914-2</td><td> 970.6976    </td></tr>\n",
       "\t<tr><th scope=row>28</th><td>Lotus Europa </td><td> 686.2923    </td></tr>\n",
       "\t<tr><th scope=row>32</th><td>Volvo 142E   </td><td>1260.9997    </td></tr>\n",
       "</tbody>\n",
       "</table>\n"
      ],
      "text/latex": [
       "\\begin{tabular}{r|ll}\n",
       "  & model & wt\\\\\n",
       "\\hline\n",
       "\t21 & Toyota Corona & 1118.1167    \\\\\n",
       "\t27 & Porsche 914-2 &  970.6976    \\\\\n",
       "\t28 & Lotus Europa  &  686.2923    \\\\\n",
       "\t32 & Volvo 142E    & 1260.9997    \\\\\n",
       "\\end{tabular}\n"
      ],
      "text/plain": [
       "   model         wt       \n",
       "21 Toyota Corona 1118.1167\n",
       "27 Porsche 914-2  970.6976\n",
       "28 Lotus Europa   686.2923\n",
       "32 Volvo 142E    1260.9997"
      ]
     },
     "metadata": {},
     "output_type": "display_data"
    }
   ],
   "source": [
    "subset(mtcars, cyl==4 & hp>70 & !is.na(cyl) & !is.na(hp))[c(\"model\", \"wt\")]"
   ]
  },
  {
   "cell_type": "markdown",
   "metadata": {},
   "source": [
    "# Esercizio 3\n",
    "\n",
    "1. Scaricare il dataset atleti.csv\n",
    "2. Importare il dataset creando un dataframe e controllarne la struttura\n",
    "3. I dati dei pesi soddisfano le tre condizioni necessarie affinché siano approsimativamente normali? Ross pag. 105\n",
    "4. I dati dell’età sono simmetrici intorno al valore medio? Ross pag 56"
   ]
  },
  {
   "cell_type": "code",
   "execution_count": 48,
   "metadata": {
    "collapsed": false
   },
   "outputs": [
    {
     "name": "stdout",
     "output_type": "stream",
     "text": [
      "'data.frame':\t1000 obs. of  3 variables:\n",
      " $ peso   : int  69 70 72 68 72 72 64 70 67 65 ...\n",
      " $ altezza: num  164 173 176 175 171 ...\n",
      " $ eta    : int  14 11 28 15 26 31 23 58 16 29 ...\n"
     ]
    }
   ],
   "source": [
    "atleti <- read.csv(file = \"atleti.csv\")\n",
    "str(atleti)"
   ]
  },
  {
   "cell_type": "code",
   "execution_count": 53,
   "metadata": {
    "collapsed": false
   },
   "outputs": [
    {
     "data": {
      "text/html": [
       "0.68"
      ],
      "text/latex": [
       "0.68"
      ],
      "text/markdown": [
       "0.68"
      ],
      "text/plain": [
       "[1] 0.68"
      ]
     },
     "metadata": {},
     "output_type": "display_data"
    },
    {
     "data": {
      "text/html": [
       "0.966"
      ],
      "text/latex": [
       "0.966"
      ],
      "text/markdown": [
       "0.966"
      ],
      "text/plain": [
       "[1] 0.966"
      ]
     },
     "metadata": {},
     "output_type": "display_data"
    },
    {
     "data": {
      "text/html": [
       "1"
      ],
      "text/latex": [
       "1"
      ],
      "text/markdown": [
       "1"
      ],
      "text/plain": [
       "[1] 1"
      ]
     },
     "metadata": {},
     "output_type": "display_data"
    }
   ],
   "source": [
    "meanpeso <- mean(atleti$peso)\n",
    "sdpeso <- sd(atleti$peso)\n",
    "sum(atleti$peso>=(meanpeso-sdpeso) & atleti$peso<=(meanpeso+sdpeso))/length(atleti$peso)\n",
    "sum(atleti$peso>=(meanpeso-2*sdpeso) & atleti$peso<=(meanpeso+2*sdpeso))/length(atleti$peso)\n",
    "sum(atleti$peso>=(meanpeso-3*sdpeso) & atleti$peso<=(meanpeso+3*sdpeso))/length(atleti$peso)"
   ]
  },
  {
   "cell_type": "code",
   "execution_count": 71,
   "metadata": {
    "collapsed": false
   },
   "outputs": [
    {
     "data": {
      "text/html": [
       "FALSE"
      ],
      "text/latex": [
       "FALSE"
      ],
      "text/markdown": [
       "FALSE"
      ],
      "text/plain": [
       "[1] FALSE"
      ]
     },
     "metadata": {},
     "output_type": "display_data"
    }
   ],
   "source": [
    "meaneta <- round(mean(atleti$eta), digits=0)\n",
    "simmfreq <- matrix(c(sum(atleti$eta==meaneta), sum(atleti$eta==meaneta)), nrow=1)\n",
    "for(c in 1:50) {\n",
    "    simmfreq <- rbind(simmfreq, c(sum(atleti$eta==meaneta-c), sum(atleti$eta==meaneta+c)))\n",
    "}\n",
    "sum(simmfreq[, 1]==simmfreq[, 2])==nrow(simmfreq)"
   ]
  }
 ],
 "metadata": {
  "kernelspec": {
   "display_name": "R",
   "language": "R",
   "name": "ir"
  },
  "language_info": {
   "codemirror_mode": "r",
   "file_extension": ".r",
   "mimetype": "text/x-r-source",
   "name": "R",
   "pygments_lexer": "r",
   "version": "3.3.1"
  }
 },
 "nbformat": 4,
 "nbformat_minor": 1
}
