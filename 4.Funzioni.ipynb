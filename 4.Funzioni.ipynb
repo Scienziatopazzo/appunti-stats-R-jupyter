{
 "cells": [
  {
   "cell_type": "markdown",
   "metadata": {},
   "source": [
    "# Esercizio 1\n",
    "Scrivere funzioni per:\n",
    "1. Calcolare la frequenza assoluta dei dati contenuti in un vettore (non usare table)\n",
    "2. Calcolare la frequenza relativa dei dati contenuti in un vettore (non usate table)\n",
    "3. Calcolare la moda dei dati contenuti in un vettore (non usate table)\n",
    "4. Calcolare la media campionaria dei dati contenuti in un vettore usando le frequenze relative\n",
    "5. Calcolare la covarianza campionaria di due vettori\n",
    "6. Calcolare (senza usare quantile()) il percentile kk-esimo dei dati un vettore (kk deve essere un parametro della funzione)\n",
    "7. Calcolare l’indice di eterogeneità di Gini e Entropia normalizzati dei dati contenuti in un vettore"
   ]
  },
  {
   "cell_type": "code",
   "execution_count": 97,
   "metadata": {
    "collapsed": false
   },
   "outputs": [],
   "source": [
    "freqass <- function(v){\n",
    "    unv <- unique(v)\n",
    "    fr <- rep(0, times=length(unv))\n",
    "    for (i in v){\n",
    "        for (j in 1:length(unv)){\n",
    "            if (i==unv[j]){\n",
    "                fr[j] <- fr[j] + 1\n",
    "                break\n",
    "            }\n",
    "        }\n",
    "    }\n",
    "    names(fr) <- unv\n",
    "    return (fr)\n",
    "}\n",
    "\n",
    "freqrel <- function(v){\n",
    "    ass <- freqass(v)\n",
    "    return (ass/length(v))\n",
    "}\n",
    "\n",
    "moda <- function(v){\n",
    "    ass <- freqass(v)\n",
    "    max <- 1\n",
    "    for (i in 1:length(ass)){\n",
    "        if (ass[max]<ass[i]){\n",
    "            max <- i\n",
    "        }\n",
    "    }\n",
    "    return (names(ass)[max])\n",
    "}\n",
    "\n",
    "media <- function(v){\n",
    "    rel <- freqrel(v)\n",
    "    m <- 0\n",
    "    for (i in 1:length(rel)){\n",
    "        m <- m + rel[i]*as.numeric(names(rel)[i])\n",
    "    }\n",
    "    names(m) <- NULL\n",
    "    return (m)\n",
    "}\n",
    "\n",
    "covarianza <- function(u, v){\n",
    "    mu <- media(u)\n",
    "    mv <- media(v)\n",
    "    cov <- 0\n",
    "    for (i in 1:length(u)){\n",
    "        cov <- cov + (u[i]-mu)*(v[i]-mv)\n",
    "    }\n",
    "    cov <- cov / (length(u)-1)\n",
    "    return (cov)\n",
    "}\n",
    "\n",
    "percentile <- function(v, k){\n",
    "    v <- sort(v)\n",
    "    n <- ceiling((k*length(v))/100)\n",
    "    return (v[n])\n",
    "}\n",
    "\n",
    "gini <- function(v){\n",
    "    rel <- freqrel(v)\n",
    "    sumf <- 0\n",
    "    for (i in rel){\n",
    "        sumf <- sumf + i**2\n",
    "    }\n",
    "    gini <- (length(rel)*(1-sumf))/(length(rel)-1)\n",
    "    return (gini)\n",
    "}\n",
    "\n",
    "entropia <- function(v){\n",
    "    rel <- freqrel(v)\n",
    "    sumf <- 0\n",
    "    for (i in rel){\n",
    "        sumf <- sumf + i*log(i)\n",
    "    }\n",
    "    ent <- -sumf/length(rel)\n",
    "    return(ent)\n",
    "}"
   ]
  },
  {
   "cell_type": "markdown",
   "metadata": {},
   "source": [
    "# Esercizio 2\n",
    "\n",
    "1. Scaricare il dataset reddito.csv\n",
    "2. Importare il dataset creando un dataframe\n",
    "3. Usare la funzione scritta in precendenza per calcolare Entropia e indice di Gini dei fattori StatoCivile e Nazione\n",
    "4. Calcolare la moda dei due fattori"
   ]
  },
  {
   "cell_type": "code",
   "execution_count": 98,
   "metadata": {
    "collapsed": false
   },
   "outputs": [
    {
     "name": "stdout",
     "output_type": "stream",
     "text": [
      "'data.frame':\t45222 obs. of  4 variables:\n",
      " $ Eta        : int  25 38 28 44 34 63 24 55 65 36 ...\n",
      " $ StatoCivile: Factor w/ 7 levels \"Divorced\",\"Married-AF-spouse\",..: 6 3 3 4 5 3 1 3 5 7 ...\n",
      " $ Nazione    : Factor w/ 41 levels \"Cambodia\",\"Canada\",..: 39 39 39 39 39 39 39 39 39 39 ...\n",
      " $ Reddito    : Factor w/ 2 levels \"<=50K\",\">50K\": 1 1 2 2 1 2 1 1 2 1 ...\n"
     ]
    }
   ],
   "source": [
    "reddito <- read.csv(file=\"reddito.csv\")\n",
    "str(reddito)"
   ]
  },
  {
   "cell_type": "code",
   "execution_count": 101,
   "metadata": {
    "collapsed": false
   },
   "outputs": [
    {
     "data": {
      "text/html": [
       "0.779239218789919"
      ],
      "text/latex": [
       "0.779239218789919"
      ],
      "text/markdown": [
       "0.779239218789919"
      ],
      "text/plain": [
       "[1] 0.7792392"
      ]
     },
     "metadata": {},
     "output_type": "display_data"
    },
    {
     "data": {
      "text/html": [
       "0.182332643219566"
      ],
      "text/latex": [
       "0.182332643219566"
      ],
      "text/markdown": [
       "0.182332643219566"
      ],
      "text/plain": [
       "[1] 0.1823326"
      ]
     },
     "metadata": {},
     "output_type": "display_data"
    }
   ],
   "source": [
    "gini(reddito$StatoCivile)\n",
    "entropia(reddito$StatoCivile)"
   ]
  },
  {
   "cell_type": "code",
   "execution_count": 102,
   "metadata": {
    "collapsed": false
   },
   "outputs": [
    {
     "data": {
      "text/html": [
       "0.169819306582605"
      ],
      "text/latex": [
       "0.169819306582605"
      ],
      "text/markdown": [
       "0.169819306582605"
      ],
      "text/plain": [
       "[1] 0.1698193"
      ]
     },
     "metadata": {},
     "output_type": "display_data"
    },
    {
     "data": {
      "text/html": [
       "0.0138931781289573"
      ],
      "text/latex": [
       "0.0138931781289573"
      ],
      "text/markdown": [
       "0.0138931781289573"
      ],
      "text/plain": [
       "[1] 0.01389318"
      ]
     },
     "metadata": {},
     "output_type": "display_data"
    }
   ],
   "source": [
    "gini(reddito$Nazione)\n",
    "entropia(reddito$Nazione)"
   ]
  },
  {
   "cell_type": "code",
   "execution_count": 100,
   "metadata": {
    "collapsed": false
   },
   "outputs": [
    {
     "data": {
      "text/html": [
       "'Married-civ-spouse'"
      ],
      "text/latex": [
       "'Married-civ-spouse'"
      ],
      "text/markdown": [
       "'Married-civ-spouse'"
      ],
      "text/plain": [
       "[1] \"Married-civ-spouse\""
      ]
     },
     "metadata": {},
     "output_type": "display_data"
    },
    {
     "data": {
      "text/html": [
       "'United-States'"
      ],
      "text/latex": [
       "'United-States'"
      ],
      "text/markdown": [
       "'United-States'"
      ],
      "text/plain": [
       "[1] \"United-States\""
      ]
     },
     "metadata": {},
     "output_type": "display_data"
    }
   ],
   "source": [
    "moda(reddito$StatoCivile)\n",
    "moda(reddito$Nazione)"
   ]
  }
 ],
 "metadata": {
  "kernelspec": {
   "display_name": "R",
   "language": "R",
   "name": "ir"
  },
  "language_info": {
   "codemirror_mode": "r",
   "file_extension": ".r",
   "mimetype": "text/x-r-source",
   "name": "R",
   "pygments_lexer": "r",
   "version": "3.3.1"
  }
 },
 "nbformat": 4,
 "nbformat_minor": 1
}
