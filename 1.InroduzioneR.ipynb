{
 "cells": [
  {
   "cell_type": "code",
   "execution_count": 26,
   "metadata": {
    "collapsed": false
   },
   "outputs": [
    {
     "data": {
      "text/html": [
       "<ol class=list-inline>\n",
       "\t<li>2.5</li>\n",
       "\t<li>2</li>\n",
       "\t<li>5</li>\n",
       "\t<li>1</li>\n",
       "\t<li>11</li>\n",
       "\t<li>-0.1</li>\n",
       "\t<li>10</li>\n",
       "\t<li>9</li>\n",
       "</ol>\n"
      ],
      "text/latex": [
       "\\begin{enumerate*}\n",
       "\\item 2.5\n",
       "\\item 2\n",
       "\\item 5\n",
       "\\item 1\n",
       "\\item 11\n",
       "\\item -0.1\n",
       "\\item 10\n",
       "\\item 9\n",
       "\\end{enumerate*}\n"
      ],
      "text/markdown": [
       "1. 2.5\n",
       "2. 2\n",
       "3. 5\n",
       "4. 1\n",
       "5. 11\n",
       "6. -0.1\n",
       "7. 10\n",
       "8. 9\n",
       "\n",
       "\n"
      ],
      "text/plain": [
       "[1]  2.5  2.0  5.0  1.0 11.0 -0.1 10.0  9.0"
      ]
     },
     "metadata": {},
     "output_type": "display_data"
    },
    {
     "data": {
      "text/html": [
       "<ol class=list-inline>\n",
       "\t<li>10</li>\n",
       "\t<li>9.5</li>\n",
       "\t<li>9</li>\n",
       "\t<li>8.5</li>\n",
       "\t<li>8</li>\n",
       "\t<li>7.5</li>\n",
       "\t<li>7</li>\n",
       "\t<li>6.5</li>\n",
       "</ol>\n"
      ],
      "text/latex": [
       "\\begin{enumerate*}\n",
       "\\item 10\n",
       "\\item 9.5\n",
       "\\item 9\n",
       "\\item 8.5\n",
       "\\item 8\n",
       "\\item 7.5\n",
       "\\item 7\n",
       "\\item 6.5\n",
       "\\end{enumerate*}\n"
      ],
      "text/markdown": [
       "1. 10\n",
       "2. 9.5\n",
       "3. 9\n",
       "4. 8.5\n",
       "5. 8\n",
       "6. 7.5\n",
       "7. 7\n",
       "8. 6.5\n",
       "\n",
       "\n"
      ],
      "text/plain": [
       "[1] 10.0  9.5  9.0  8.5  8.0  7.5  7.0  6.5"
      ]
     },
     "metadata": {},
     "output_type": "display_data"
    },
    {
     "data": {
      "text/html": [
       "<ol class=list-inline>\n",
       "\t<li>1</li>\n",
       "\t<li>2</li>\n",
       "\t<li>3</li>\n",
       "\t<li>4</li>\n",
       "\t<li>5</li>\n",
       "\t<li>6</li>\n",
       "\t<li>7</li>\n",
       "\t<li>8</li>\n",
       "</ol>\n"
      ],
      "text/latex": [
       "\\begin{enumerate*}\n",
       "\\item 1\n",
       "\\item 2\n",
       "\\item 3\n",
       "\\item 4\n",
       "\\item 5\n",
       "\\item 6\n",
       "\\item 7\n",
       "\\item 8\n",
       "\\end{enumerate*}\n"
      ],
      "text/markdown": [
       "1. 1\n",
       "2. 2\n",
       "3. 3\n",
       "4. 4\n",
       "5. 5\n",
       "6. 6\n",
       "7. 7\n",
       "8. 8\n",
       "\n",
       "\n"
      ],
      "text/plain": [
       "[1] 1 2 3 4 5 6 7 8"
      ]
     },
     "metadata": {},
     "output_type": "display_data"
    }
   ],
   "source": [
    "x <- c(2.5, 2, 5, 1, 11, -0.1, 10, 9)\n",
    "y <- seq(from=10, to=6.5, by=-0.5)\n",
    "z <- 1:8\n",
    "x\n",
    "y\n",
    "z"
   ]
  },
  {
   "cell_type": "code",
   "execution_count": 23,
   "metadata": {
    "collapsed": false
   },
   "outputs": [
    {
     "data": {
      "text/html": [
       "<dl class=dl-horizontal>\n",
       "\t<dt>A1</dt>\n",
       "\t\t<dd>12</dd>\n",
       "\t<dt>A2</dt>\n",
       "\t\t<dd>2</dd>\n",
       "</dl>\n"
      ],
      "text/latex": [
       "\\begin{description*}\n",
       "\\item[A1] 12\n",
       "\\item[A2] 2\n",
       "\\end{description*}\n"
      ],
      "text/markdown": [
       "A1\n",
       ":   12A2\n",
       ":   2\n",
       "\n"
      ],
      "text/plain": [
       "A1 A2 \n",
       "12  2 "
      ]
     },
     "metadata": {},
     "output_type": "display_data"
    }
   ],
   "source": [
    "a1a2 <- campione[c(\"A1\", \"A2\")]\n",
    "a1a2"
   ]
  },
  {
   "cell_type": "code",
   "execution_count": 27,
   "metadata": {
    "collapsed": false
   },
   "outputs": [
    {
     "data": {
      "text/html": [
       "-0.1"
      ],
      "text/latex": [
       "-0.1"
      ],
      "text/markdown": [
       "-0.1"
      ],
      "text/plain": [
       "[1] -0.1"
      ]
     },
     "metadata": {},
     "output_type": "display_data"
    },
    {
     "data": {
      "text/html": [
       "11"
      ],
      "text/latex": [
       "11"
      ],
      "text/markdown": [
       "11"
      ],
      "text/plain": [
       "[1] 11"
      ]
     },
     "metadata": {},
     "output_type": "display_data"
    },
    {
     "data": {
      "text/html": [
       "6.5"
      ],
      "text/latex": [
       "6.5"
      ],
      "text/markdown": [
       "6.5"
      ],
      "text/plain": [
       "[1] 6.5"
      ]
     },
     "metadata": {},
     "output_type": "display_data"
    },
    {
     "data": {
      "text/html": [
       "10"
      ],
      "text/latex": [
       "10"
      ],
      "text/markdown": [
       "10"
      ],
      "text/plain": [
       "[1] 10"
      ]
     },
     "metadata": {},
     "output_type": "display_data"
    },
    {
     "data": {
      "text/html": [
       "1"
      ],
      "text/latex": [
       "1"
      ],
      "text/markdown": [
       "1"
      ],
      "text/plain": [
       "[1] 1"
      ]
     },
     "metadata": {},
     "output_type": "display_data"
    },
    {
     "data": {
      "text/html": [
       "8"
      ],
      "text/latex": [
       "8"
      ],
      "text/markdown": [
       "8"
      ],
      "text/plain": [
       "[1] 8"
      ]
     },
     "metadata": {},
     "output_type": "display_data"
    }
   ],
   "source": [
    "min(x)\n",
    "max(x)\n",
    "min(y)\n",
    "max(y)\n",
    "min(z)\n",
    "max(z)"
   ]
  },
  {
   "cell_type": "code",
   "execution_count": 28,
   "metadata": {
    "collapsed": false
   },
   "outputs": [
    {
     "data": {
      "text/html": [
       "40.4"
      ],
      "text/latex": [
       "40.4"
      ],
      "text/markdown": [
       "40.4"
      ],
      "text/plain": [
       "[1] 40.4"
      ]
     },
     "metadata": {},
     "output_type": "display_data"
    },
    {
     "data": {
      "text/html": [
       "66"
      ],
      "text/latex": [
       "66"
      ],
      "text/markdown": [
       "66"
      ],
      "text/plain": [
       "[1] 66"
      ]
     },
     "metadata": {},
     "output_type": "display_data"
    },
    {
     "data": {
      "text/html": [
       "36"
      ],
      "text/latex": [
       "36"
      ],
      "text/markdown": [
       "36"
      ],
      "text/plain": [
       "[1] 36"
      ]
     },
     "metadata": {},
     "output_type": "display_data"
    }
   ],
   "source": [
    "sum(x)\n",
    "sum(y)\n",
    "sum(z)"
   ]
  },
  {
   "cell_type": "code",
   "execution_count": 30,
   "metadata": {
    "collapsed": false
   },
   "outputs": [
    {
     "data": {
      "text/html": [
       "<ol class=list-inline>\n",
       "\t<li>12.5</li>\n",
       "\t<li>11.5</li>\n",
       "\t<li>14</li>\n",
       "\t<li>9.5</li>\n",
       "\t<li>19</li>\n",
       "\t<li>7.4</li>\n",
       "\t<li>17</li>\n",
       "\t<li>15.5</li>\n",
       "</ol>\n"
      ],
      "text/latex": [
       "\\begin{enumerate*}\n",
       "\\item 12.5\n",
       "\\item 11.5\n",
       "\\item 14\n",
       "\\item 9.5\n",
       "\\item 19\n",
       "\\item 7.4\n",
       "\\item 17\n",
       "\\item 15.5\n",
       "\\end{enumerate*}\n"
      ],
      "text/markdown": [
       "1. 12.5\n",
       "2. 11.5\n",
       "3. 14\n",
       "4. 9.5\n",
       "5. 19\n",
       "6. 7.4\n",
       "7. 17\n",
       "8. 15.5\n",
       "\n",
       "\n"
      ],
      "text/plain": [
       "[1] 12.5 11.5 14.0  9.5 19.0  7.4 17.0 15.5"
      ]
     },
     "metadata": {},
     "output_type": "display_data"
    }
   ],
   "source": [
    "x + y"
   ]
  },
  {
   "cell_type": "code",
   "execution_count": 31,
   "metadata": {
    "collapsed": false
   },
   "outputs": [
    {
     "data": {
      "text/html": [
       "<ol class=list-inline>\n",
       "\t<li>9</li>\n",
       "\t<li>7.5</li>\n",
       "\t<li>6</li>\n",
       "\t<li>4.5</li>\n",
       "\t<li>3</li>\n",
       "\t<li>1.5</li>\n",
       "\t<li>0</li>\n",
       "\t<li>-1.5</li>\n",
       "</ol>\n"
      ],
      "text/latex": [
       "\\begin{enumerate*}\n",
       "\\item 9\n",
       "\\item 7.5\n",
       "\\item 6\n",
       "\\item 4.5\n",
       "\\item 3\n",
       "\\item 1.5\n",
       "\\item 0\n",
       "\\item -1.5\n",
       "\\end{enumerate*}\n"
      ],
      "text/markdown": [
       "1. 9\n",
       "2. 7.5\n",
       "3. 6\n",
       "4. 4.5\n",
       "5. 3\n",
       "6. 1.5\n",
       "7. 0\n",
       "8. -1.5\n",
       "\n",
       "\n"
      ],
      "text/plain": [
       "[1]  9.0  7.5  6.0  4.5  3.0  1.5  0.0 -1.5"
      ]
     },
     "metadata": {},
     "output_type": "display_data"
    }
   ],
   "source": [
    "y - z"
   ]
  },
  {
   "cell_type": "code",
   "execution_count": 32,
   "metadata": {
    "collapsed": false
   },
   "outputs": [
    {
     "data": {
      "text/html": [
       "19840275"
      ],
      "text/latex": [
       "19840275"
      ],
      "text/markdown": [
       "19840275"
      ],
      "text/plain": [
       "[1] 19840275"
      ]
     },
     "metadata": {},
     "output_type": "display_data"
    }
   ],
   "source": [
    "prod(y)"
   ]
  },
  {
   "cell_type": "code",
   "execution_count": 34,
   "metadata": {
    "collapsed": false
   },
   "outputs": [
    {
     "data": {
      "text/html": [
       "<ol class=list-inline>\n",
       "\t<li>9</li>\n",
       "\t<li>9</li>\n",
       "\t<li>7</li>\n",
       "\t<li>7.5</li>\n",
       "\t<li>8.5</li>\n",
       "\t<li>1</li>\n",
       "\t<li>7</li>\n",
       "</ol>\n"
      ],
      "text/latex": [
       "\\begin{enumerate*}\n",
       "\\item 9\n",
       "\\item 9\n",
       "\\item 7\n",
       "\\item 7.5\n",
       "\\item 8.5\n",
       "\\item 1\n",
       "\\item 7\n",
       "\\end{enumerate*}\n"
      ],
      "text/markdown": [
       "1. 9\n",
       "2. 9\n",
       "3. 7\n",
       "4. 7.5\n",
       "5. 8.5\n",
       "6. 1\n",
       "7. 7\n",
       "\n",
       "\n"
      ],
      "text/plain": [
       "[1] 9.0 9.0 7.0 7.5 8.5 1.0 7.0"
      ]
     },
     "metadata": {},
     "output_type": "display_data"
    }
   ],
   "source": [
    "t <- c(x, y, z)\n",
    "sample(t, length(t)*0.3)"
   ]
  },
  {
   "cell_type": "code",
   "execution_count": 35,
   "metadata": {
    "collapsed": false
   },
   "outputs": [
    {
     "data": {
      "text/html": [
       "<dl class=dl-horizontal>\n",
       "\t<dt>Lav0</dt>\n",
       "\t\t<dd>2</dd>\n",
       "\t<dt>Lav1</dt>\n",
       "\t\t<dd>2</dd>\n",
       "\t<dt>Lav2</dt>\n",
       "\t\t<dd>0</dd>\n",
       "\t<dt>Lav3</dt>\n",
       "\t\t<dd>0</dd>\n",
       "\t<dt>Lav4</dt>\n",
       "\t\t<dd>5</dd>\n",
       "\t<dt>Lav5</dt>\n",
       "\t\t<dd>8</dd>\n",
       "\t<dt>Lav6</dt>\n",
       "\t\t<dd>3</dd>\n",
       "\t<dt>Lav7</dt>\n",
       "\t\t<dd>4</dd>\n",
       "\t<dt>Lav8</dt>\n",
       "\t\t<dd>1</dd>\n",
       "\t<dt>Lav9</dt>\n",
       "\t\t<dd>0</dd>\n",
       "\t<dt>Lav10</dt>\n",
       "\t\t<dd>0</dd>\n",
       "\t<dt>Lav11</dt>\n",
       "\t\t<dd>7</dd>\n",
       "\t<dt>Lav12</dt>\n",
       "\t\t<dd>1</dd>\n",
       "\t<dt>Lav13</dt>\n",
       "\t\t<dd>7</dd>\n",
       "\t<dt>Lav14</dt>\n",
       "\t\t<dd>1</dd>\n",
       "\t<dt>Lav15</dt>\n",
       "\t\t<dd>5</dd>\n",
       "\t<dt>Lav16</dt>\n",
       "\t\t<dd>4</dd>\n",
       "\t<dt>Lav17</dt>\n",
       "\t\t<dd>0</dd>\n",
       "\t<dt>Lav18</dt>\n",
       "\t\t<dd>4</dd>\n",
       "\t<dt>Lav19</dt>\n",
       "\t\t<dd>0</dd>\n",
       "</dl>\n"
      ],
      "text/latex": [
       "\\begin{description*}\n",
       "\\item[Lav0] 2\n",
       "\\item[Lav1] 2\n",
       "\\item[Lav2] 0\n",
       "\\item[Lav3] 0\n",
       "\\item[Lav4] 5\n",
       "\\item[Lav5] 8\n",
       "\\item[Lav6] 3\n",
       "\\item[Lav7] 4\n",
       "\\item[Lav8] 1\n",
       "\\item[Lav9] 0\n",
       "\\item[Lav10] 0\n",
       "\\item[Lav11] 7\n",
       "\\item[Lav12] 1\n",
       "\\item[Lav13] 7\n",
       "\\item[Lav14] 1\n",
       "\\item[Lav15] 5\n",
       "\\item[Lav16] 4\n",
       "\\item[Lav17] 0\n",
       "\\item[Lav18] 4\n",
       "\\item[Lav19] 0\n",
       "\\end{description*}\n"
      ],
      "text/markdown": [
       "Lav0\n",
       ":   2Lav1\n",
       ":   2Lav2\n",
       ":   0Lav3\n",
       ":   0Lav4\n",
       ":   5Lav5\n",
       ":   8Lav6\n",
       ":   3Lav7\n",
       ":   4Lav8\n",
       ":   1Lav9\n",
       ":   0Lav10\n",
       ":   0Lav11\n",
       ":   7Lav12\n",
       ":   1Lav13\n",
       ":   7Lav14\n",
       ":   1Lav15\n",
       ":   5Lav16\n",
       ":   4Lav17\n",
       ":   0Lav18\n",
       ":   4Lav19\n",
       ":   0\n",
       "\n"
      ],
      "text/plain": [
       " Lav0  Lav1  Lav2  Lav3  Lav4  Lav5  Lav6  Lav7  Lav8  Lav9 Lav10 Lav11 Lav12 \n",
       "    2     2     0     0     5     8     3     4     1     0     0     7     1 \n",
       "Lav13 Lav14 Lav15 Lav16 Lav17 Lav18 Lav19 \n",
       "    7     1     5     4     0     4     0 "
      ]
     },
     "metadata": {},
     "output_type": "display_data"
    }
   ],
   "source": [
    "giornimalattia <- c(2, 2, 0, 0, 5, 8, 3, 4, 1, 0, 0, 7, 1, 7, 1, 5, 4, 0, 4, 0)\n",
    "names(giornimalattia) <- paste(\"Lav\", 0:19, sep=\"\")\n",
    "giornimalattia"
   ]
  },
  {
   "cell_type": "code",
   "execution_count": 36,
   "metadata": {
    "collapsed": false
   },
   "outputs": [
    {
     "data": {
      "text/html": [
       "<strong>Lav6:</strong> 3"
      ],
      "text/latex": [
       "\\textbf{Lav6:} 3"
      ],
      "text/markdown": [
       "**Lav6:** 3"
      ],
      "text/plain": [
       "Lav6 \n",
       "   3 "
      ]
     },
     "metadata": {},
     "output_type": "display_data"
    }
   ],
   "source": [
    "giornimalattia[\"Lav6\"]"
   ]
  },
  {
   "cell_type": "code",
   "execution_count": 38,
   "metadata": {
    "collapsed": false
   },
   "outputs": [
    {
     "data": {
      "text/html": [
       "<ol class=list-inline>\n",
       "\t<li>'Lav2'</li>\n",
       "\t<li>'Lav3'</li>\n",
       "\t<li>'Lav9'</li>\n",
       "\t<li>'Lav10'</li>\n",
       "\t<li>'Lav17'</li>\n",
       "\t<li>'Lav19'</li>\n",
       "</ol>\n"
      ],
      "text/latex": [
       "\\begin{enumerate*}\n",
       "\\item 'Lav2'\n",
       "\\item 'Lav3'\n",
       "\\item 'Lav9'\n",
       "\\item 'Lav10'\n",
       "\\item 'Lav17'\n",
       "\\item 'Lav19'\n",
       "\\end{enumerate*}\n"
      ],
      "text/markdown": [
       "1. 'Lav2'\n",
       "2. 'Lav3'\n",
       "3. 'Lav9'\n",
       "4. 'Lav10'\n",
       "5. 'Lav17'\n",
       "6. 'Lav19'\n",
       "\n",
       "\n"
      ],
      "text/plain": [
       "[1] \"Lav2\"  \"Lav3\"  \"Lav9\"  \"Lav10\" \"Lav17\" \"Lav19\""
      ]
     },
     "metadata": {},
     "output_type": "display_data"
    }
   ],
   "source": [
    "zerogiorni <- giornimalattia[giornimalattia==0]\n",
    "names(zerogiorni)"
   ]
  },
  {
   "cell_type": "code",
   "execution_count": 45,
   "metadata": {
    "collapsed": false
   },
   "outputs": [
    {
     "data": {
      "text/html": [
       "<dl class=dl-horizontal>\n",
       "\t<dt>Lav0</dt>\n",
       "\t\t<dd>2</dd>\n",
       "\t<dt>Lav1</dt>\n",
       "\t\t<dd>2</dd>\n",
       "\t<dt>Lav3</dt>\n",
       "\t\t<dd>0</dd>\n",
       "\t<dt>Lav4</dt>\n",
       "\t\t<dd>5</dd>\n",
       "\t<dt>Lav5</dt>\n",
       "\t\t<dd>8</dd>\n",
       "\t<dt>Lav6</dt>\n",
       "\t\t<dd>3</dd>\n",
       "\t<dt>Lav7</dt>\n",
       "\t\t<dd>4</dd>\n",
       "\t<dt>Lav8</dt>\n",
       "\t\t<dd>1</dd>\n",
       "\t<dt>Lav9</dt>\n",
       "\t\t<dd>0</dd>\n",
       "\t<dt>Lav10</dt>\n",
       "\t\t<dd>0</dd>\n",
       "\t<dt>Lav12</dt>\n",
       "\t\t<dd>1</dd>\n",
       "\t<dt>Lav13</dt>\n",
       "\t\t<dd>7</dd>\n",
       "\t<dt>Lav14</dt>\n",
       "\t\t<dd>1</dd>\n",
       "\t<dt>Lav15</dt>\n",
       "\t\t<dd>5</dd>\n",
       "\t<dt>Lav16</dt>\n",
       "\t\t<dd>4</dd>\n",
       "\t<dt>Lav17</dt>\n",
       "\t\t<dd>0</dd>\n",
       "\t<dt>Lav18</dt>\n",
       "\t\t<dd>4</dd>\n",
       "\t<dt>Lav19</dt>\n",
       "\t\t<dd>0</dd>\n",
       "</dl>\n"
      ],
      "text/latex": [
       "\\begin{description*}\n",
       "\\item[Lav0] 2\n",
       "\\item[Lav1] 2\n",
       "\\item[Lav3] 0\n",
       "\\item[Lav4] 5\n",
       "\\item[Lav5] 8\n",
       "\\item[Lav6] 3\n",
       "\\item[Lav7] 4\n",
       "\\item[Lav8] 1\n",
       "\\item[Lav9] 0\n",
       "\\item[Lav10] 0\n",
       "\\item[Lav12] 1\n",
       "\\item[Lav13] 7\n",
       "\\item[Lav14] 1\n",
       "\\item[Lav15] 5\n",
       "\\item[Lav16] 4\n",
       "\\item[Lav17] 0\n",
       "\\item[Lav18] 4\n",
       "\\item[Lav19] 0\n",
       "\\end{description*}\n"
      ],
      "text/markdown": [
       "Lav0\n",
       ":   2Lav1\n",
       ":   2Lav3\n",
       ":   0Lav4\n",
       ":   5Lav5\n",
       ":   8Lav6\n",
       ":   3Lav7\n",
       ":   4Lav8\n",
       ":   1Lav9\n",
       ":   0Lav10\n",
       ":   0Lav12\n",
       ":   1Lav13\n",
       ":   7Lav14\n",
       ":   1Lav15\n",
       ":   5Lav16\n",
       ":   4Lav17\n",
       ":   0Lav18\n",
       ":   4Lav19\n",
       ":   0\n",
       "\n"
      ],
      "text/plain": [
       " Lav0  Lav1  Lav3  Lav4  Lav5  Lav6  Lav7  Lav8  Lav9 Lav10 Lav12 Lav13 Lav14 \n",
       "    2     2     0     5     8     3     4     1     0     0     1     7     1 \n",
       "Lav15 Lav16 Lav17 Lav18 Lav19 \n",
       "    5     4     0     4     0 "
      ]
     },
     "metadata": {},
     "output_type": "display_data"
    }
   ],
   "source": [
    "giornimalattia[names(giornimalattia)!=c(\"Lav2\", \"Lav11\")]"
   ]
  },
  {
   "cell_type": "code",
   "execution_count": 56,
   "metadata": {
    "collapsed": false
   },
   "outputs": [
    {
     "data": {
      "text/html": [
       "<strong>Lav19:</strong> 0"
      ],
      "text/latex": [
       "\\textbf{Lav19:} 0"
      ],
      "text/markdown": [
       "**Lav19:** 0"
      ],
      "text/plain": [
       "Lav19 \n",
       "    0 "
      ]
     },
     "metadata": {},
     "output_type": "display_data"
    }
   ],
   "source": [
    "sample(giornimalattia[giornimalattia==min(giornimalattia)], 1)"
   ]
  },
  {
   "cell_type": "code",
   "execution_count": 55,
   "metadata": {
    "collapsed": false
   },
   "outputs": [
    {
     "data": {
      "text/html": [
       "<strong>Lav5:</strong> 8"
      ],
      "text/latex": [
       "\\textbf{Lav5:} 8"
      ],
      "text/markdown": [
       "**Lav5:** 8"
      ],
      "text/plain": [
       "Lav5 \n",
       "   8 "
      ]
     },
     "metadata": {},
     "output_type": "display_data"
    }
   ],
   "source": [
    "giornimalattia[giornimalattia==max(giornimalattia)]"
   ]
  }
 ],
 "metadata": {
  "kernelspec": {
   "display_name": "R",
   "language": "R",
   "name": "ir"
  },
  "language_info": {
   "codemirror_mode": "r",
   "file_extension": ".r",
   "mimetype": "text/x-r-source",
   "name": "R",
   "pygments_lexer": "r",
   "version": "3.3.1"
  }
 },
 "nbformat": 4,
 "nbformat_minor": 0
}
