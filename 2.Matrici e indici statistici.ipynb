{
 "cells": [
  {
   "cell_type": "markdown",
   "metadata": {},
   "source": [
    "Risolvere il seguente sistema lineare:\n",
    "\n",
    "x1   +  x2 = 4\n",
    "\n",
    "2\\*x1+  x2 = 1"
   ]
  },
  {
   "cell_type": "code",
   "execution_count": 1,
   "metadata": {
    "collapsed": false
   },
   "outputs": [
    {
     "data": {
      "text/html": [
       "<ol class=list-inline>\n",
       "\t<li>-3</li>\n",
       "\t<li>7</li>\n",
       "</ol>\n"
      ],
      "text/latex": [
       "\\begin{enumerate*}\n",
       "\\item -3\n",
       "\\item 7\n",
       "\\end{enumerate*}\n"
      ],
      "text/markdown": [
       "1. -3\n",
       "2. 7\n",
       "\n",
       "\n"
      ],
      "text/plain": [
       "[1] -3  7"
      ]
     },
     "metadata": {},
     "output_type": "display_data"
    }
   ],
   "source": [
    "solve(matrix(c(1, 2, 1, 1), nrow=2), c(4, 1))"
   ]
  },
  {
   "cell_type": "markdown",
   "metadata": {},
   "source": [
    "# Esercizio 1\n",
    "\n",
    "Costruire due matrici M ed N di cinque colonne; M deve contenere i numeri da 1 a 15 ed N da 16 a 35. Costruire, se possibile, una matrice di 5 colonne che abbia come righe le righe di entrambe le matrici. Utilizzando M ed N, è possibile creare una matrice che abbia come colonne le colonne di entrambe le matrici?"
   ]
  },
  {
   "cell_type": "code",
   "execution_count": 2,
   "metadata": {
    "collapsed": false
   },
   "outputs": [
    {
     "data": {
      "text/html": [
       "<table>\n",
       "<tbody>\n",
       "\t<tr><td>1 </td><td>4 </td><td>7 </td><td>10</td><td>13</td></tr>\n",
       "\t<tr><td>2 </td><td>5 </td><td>8 </td><td>11</td><td>14</td></tr>\n",
       "\t<tr><td>3 </td><td>6 </td><td>9 </td><td>12</td><td>15</td></tr>\n",
       "</tbody>\n",
       "</table>\n"
      ],
      "text/latex": [
       "\\begin{tabular}{lllll}\n",
       "\t 1  & 4  & 7  & 10 & 13\\\\\n",
       "\t 2  & 5  & 8  & 11 & 14\\\\\n",
       "\t 3  & 6  & 9  & 12 & 15\\\\\n",
       "\\end{tabular}\n"
      ],
      "text/markdown": [
       "1. 1\n",
       "2. 2\n",
       "3. 3\n",
       "4. 4\n",
       "5. 5\n",
       "6. 6\n",
       "7. 7\n",
       "8. 8\n",
       "9. 9\n",
       "10. 10\n",
       "11. 11\n",
       "12. 12\n",
       "13. 13\n",
       "14. 14\n",
       "15. 15\n",
       "\n",
       "\n"
      ],
      "text/plain": [
       "     [,1] [,2] [,3] [,4] [,5]\n",
       "[1,] 1    4    7    10   13  \n",
       "[2,] 2    5    8    11   14  \n",
       "[3,] 3    6    9    12   15  "
      ]
     },
     "metadata": {},
     "output_type": "display_data"
    },
    {
     "data": {
      "text/html": [
       "<table>\n",
       "<tbody>\n",
       "\t<tr><td>16</td><td>20</td><td>24</td><td>28</td><td>32</td></tr>\n",
       "\t<tr><td>17</td><td>21</td><td>25</td><td>29</td><td>33</td></tr>\n",
       "\t<tr><td>18</td><td>22</td><td>26</td><td>30</td><td>34</td></tr>\n",
       "\t<tr><td>19</td><td>23</td><td>27</td><td>31</td><td>35</td></tr>\n",
       "</tbody>\n",
       "</table>\n"
      ],
      "text/latex": [
       "\\begin{tabular}{lllll}\n",
       "\t 16 & 20 & 24 & 28 & 32\\\\\n",
       "\t 17 & 21 & 25 & 29 & 33\\\\\n",
       "\t 18 & 22 & 26 & 30 & 34\\\\\n",
       "\t 19 & 23 & 27 & 31 & 35\\\\\n",
       "\\end{tabular}\n"
      ],
      "text/markdown": [
       "1. 16\n",
       "2. 17\n",
       "3. 18\n",
       "4. 19\n",
       "5. 20\n",
       "6. 21\n",
       "7. 22\n",
       "8. 23\n",
       "9. 24\n",
       "10. 25\n",
       "11. 26\n",
       "12. 27\n",
       "13. 28\n",
       "14. 29\n",
       "15. 30\n",
       "16. 31\n",
       "17. 32\n",
       "18. 33\n",
       "19. 34\n",
       "20. 35\n",
       "\n",
       "\n"
      ],
      "text/plain": [
       "     [,1] [,2] [,3] [,4] [,5]\n",
       "[1,] 16   20   24   28   32  \n",
       "[2,] 17   21   25   29   33  \n",
       "[3,] 18   22   26   30   34  \n",
       "[4,] 19   23   27   31   35  "
      ]
     },
     "metadata": {},
     "output_type": "display_data"
    }
   ],
   "source": [
    "M <- matrix(1:15, ncol=5)\n",
    "N <- matrix(16:35, ncol=5)\n",
    "M\n",
    "N"
   ]
  },
  {
   "cell_type": "code",
   "execution_count": 3,
   "metadata": {
    "collapsed": false
   },
   "outputs": [
    {
     "data": {
      "text/html": [
       "<table>\n",
       "<tbody>\n",
       "\t<tr><td> 1</td><td> 4</td><td> 7</td><td>10</td><td>13</td></tr>\n",
       "\t<tr><td> 2</td><td> 5</td><td> 8</td><td>11</td><td>14</td></tr>\n",
       "\t<tr><td> 3</td><td> 6</td><td> 9</td><td>12</td><td>15</td></tr>\n",
       "\t<tr><td>16</td><td>20</td><td>24</td><td>28</td><td>32</td></tr>\n",
       "\t<tr><td>17</td><td>21</td><td>25</td><td>29</td><td>33</td></tr>\n",
       "\t<tr><td>18</td><td>22</td><td>26</td><td>30</td><td>34</td></tr>\n",
       "\t<tr><td>19</td><td>23</td><td>27</td><td>31</td><td>35</td></tr>\n",
       "</tbody>\n",
       "</table>\n"
      ],
      "text/latex": [
       "\\begin{tabular}{lllll}\n",
       "\t  1 &  4 &  7 & 10 & 13\\\\\n",
       "\t  2 &  5 &  8 & 11 & 14\\\\\n",
       "\t  3 &  6 &  9 & 12 & 15\\\\\n",
       "\t 16 & 20 & 24 & 28 & 32\\\\\n",
       "\t 17 & 21 & 25 & 29 & 33\\\\\n",
       "\t 18 & 22 & 26 & 30 & 34\\\\\n",
       "\t 19 & 23 & 27 & 31 & 35\\\\\n",
       "\\end{tabular}\n"
      ],
      "text/markdown": [
       "1. 1\n",
       "2. 2\n",
       "3. 3\n",
       "4. 16\n",
       "5. 17\n",
       "6. 18\n",
       "7. 19\n",
       "8. 4\n",
       "9. 5\n",
       "10. 6\n",
       "11. 20\n",
       "12. 21\n",
       "13. 22\n",
       "14. 23\n",
       "15. 7\n",
       "16. 8\n",
       "17. 9\n",
       "18. 24\n",
       "19. 25\n",
       "20. 26\n",
       "21. 27\n",
       "22. 10\n",
       "23. 11\n",
       "24. 12\n",
       "25. 28\n",
       "26. 29\n",
       "27. 30\n",
       "28. 31\n",
       "29. 13\n",
       "30. 14\n",
       "31. 15\n",
       "32. 32\n",
       "33. 33\n",
       "34. 34\n",
       "35. 35\n",
       "\n",
       "\n"
      ],
      "text/plain": [
       "     [,1] [,2] [,3] [,4] [,5]\n",
       "[1,]  1    4    7   10   13  \n",
       "[2,]  2    5    8   11   14  \n",
       "[3,]  3    6    9   12   15  \n",
       "[4,] 16   20   24   28   32  \n",
       "[5,] 17   21   25   29   33  \n",
       "[6,] 18   22   26   30   34  \n",
       "[7,] 19   23   27   31   35  "
      ]
     },
     "metadata": {},
     "output_type": "display_data"
    }
   ],
   "source": [
    "rbind(M, N)"
   ]
  },
  {
   "cell_type": "code",
   "execution_count": 4,
   "metadata": {
    "collapsed": false
   },
   "outputs": [
    {
     "ename": "ERROR",
     "evalue": "Error in cbind(M, N): number of rows of matrices must match (see arg 2)\n",
     "output_type": "error",
     "traceback": [
      "Error in cbind(M, N): number of rows of matrices must match (see arg 2)\nTraceback:\n",
      "1. cbind(M, N)"
     ]
    }
   ],
   "source": [
    "cbind(M, N)"
   ]
  },
  {
   "cell_type": "markdown",
   "metadata": {},
   "source": [
    "# Esercizio 2\n",
    "\n",
    "1. Costruire due matrici quadrate A e B di dimensione 3X3 costituite da un campione di numeri estratti casualmente senza riposizionamento tra i primi 50 interi\n",
    "2. Calcolare il prodotto elemento per elemento e “righe per colonne”\n",
    "3. Scegliere un vettore b di 3 elementi e risolvere il sistema lineare Ax=b che ne deriva"
   ]
  },
  {
   "cell_type": "code",
   "execution_count": 5,
   "metadata": {
    "collapsed": false
   },
   "outputs": [
    {
     "data": {
      "text/html": [
       "<table>\n",
       "<tbody>\n",
       "\t<tr><td>22</td><td>38</td><td>40</td></tr>\n",
       "\t<tr><td> 2</td><td>27</td><td>16</td></tr>\n",
       "\t<tr><td>50</td><td>23</td><td>34</td></tr>\n",
       "</tbody>\n",
       "</table>\n"
      ],
      "text/latex": [
       "\\begin{tabular}{lll}\n",
       "\t 22 & 38 & 40\\\\\n",
       "\t  2 & 27 & 16\\\\\n",
       "\t 50 & 23 & 34\\\\\n",
       "\\end{tabular}\n"
      ],
      "text/markdown": [
       "1. 22\n",
       "2. 2\n",
       "3. 50\n",
       "4. 38\n",
       "5. 27\n",
       "6. 23\n",
       "7. 40\n",
       "8. 16\n",
       "9. 34\n",
       "\n",
       "\n"
      ],
      "text/plain": [
       "     [,1] [,2] [,3]\n",
       "[1,] 22   38   40  \n",
       "[2,]  2   27   16  \n",
       "[3,] 50   23   34  "
      ]
     },
     "metadata": {},
     "output_type": "display_data"
    },
    {
     "data": {
      "text/html": [
       "<table>\n",
       "<tbody>\n",
       "\t<tr><td>36</td><td>25</td><td>45</td></tr>\n",
       "\t<tr><td> 1</td><td>24</td><td>42</td></tr>\n",
       "\t<tr><td> 7</td><td> 9</td><td>32</td></tr>\n",
       "</tbody>\n",
       "</table>\n"
      ],
      "text/latex": [
       "\\begin{tabular}{lll}\n",
       "\t 36 & 25 & 45\\\\\n",
       "\t  1 & 24 & 42\\\\\n",
       "\t  7 &  9 & 32\\\\\n",
       "\\end{tabular}\n"
      ],
      "text/markdown": [
       "1. 36\n",
       "2. 1\n",
       "3. 7\n",
       "4. 25\n",
       "5. 24\n",
       "6. 9\n",
       "7. 45\n",
       "8. 42\n",
       "9. 32\n",
       "\n",
       "\n"
      ],
      "text/plain": [
       "     [,1] [,2] [,3]\n",
       "[1,] 36   25   45  \n",
       "[2,]  1   24   42  \n",
       "[3,]  7    9   32  "
      ]
     },
     "metadata": {},
     "output_type": "display_data"
    }
   ],
   "source": [
    "A <- matrix(sample(1:50, 9), nrow=3)\n",
    "B <- matrix(sample(1:50, 9), nrow=3)\n",
    "A\n",
    "B"
   ]
  },
  {
   "cell_type": "code",
   "execution_count": 6,
   "metadata": {
    "collapsed": false
   },
   "outputs": [
    {
     "data": {
      "text/html": [
       "<table>\n",
       "<tbody>\n",
       "\t<tr><td>792 </td><td>950 </td><td>1800</td></tr>\n",
       "\t<tr><td>  2 </td><td>648 </td><td> 672</td></tr>\n",
       "\t<tr><td>350 </td><td>207 </td><td>1088</td></tr>\n",
       "</tbody>\n",
       "</table>\n"
      ],
      "text/latex": [
       "\\begin{tabular}{lll}\n",
       "\t 792  & 950  & 1800\\\\\n",
       "\t   2  & 648  &  672\\\\\n",
       "\t 350  & 207  & 1088\\\\\n",
       "\\end{tabular}\n"
      ],
      "text/markdown": [
       "1. 792\n",
       "2. 2\n",
       "3. 350\n",
       "4. 950\n",
       "5. 648\n",
       "6. 207\n",
       "7. 1800\n",
       "8. 672\n",
       "9. 1088\n",
       "\n",
       "\n"
      ],
      "text/plain": [
       "     [,1] [,2] [,3]\n",
       "[1,] 792  950  1800\n",
       "[2,]   2  648   672\n",
       "[3,] 350  207  1088"
      ]
     },
     "metadata": {},
     "output_type": "display_data"
    },
    {
     "data": {
      "text/html": [
       "<table>\n",
       "<tbody>\n",
       "\t<tr><td>1110</td><td>1822</td><td>3866</td></tr>\n",
       "\t<tr><td> 211</td><td> 842</td><td>1736</td></tr>\n",
       "\t<tr><td>2061</td><td>2108</td><td>4304</td></tr>\n",
       "</tbody>\n",
       "</table>\n"
      ],
      "text/latex": [
       "\\begin{tabular}{lll}\n",
       "\t 1110 & 1822 & 3866\\\\\n",
       "\t  211 &  842 & 1736\\\\\n",
       "\t 2061 & 2108 & 4304\\\\\n",
       "\\end{tabular}\n"
      ],
      "text/markdown": [
       "1. 1110\n",
       "2. 211\n",
       "3. 2061\n",
       "4. 1822\n",
       "5. 842\n",
       "6. 2108\n",
       "7. 3866\n",
       "8. 1736\n",
       "9. 4304\n",
       "\n",
       "\n"
      ],
      "text/plain": [
       "     [,1] [,2] [,3]\n",
       "[1,] 1110 1822 3866\n",
       "[2,]  211  842 1736\n",
       "[3,] 2061 2108 4304"
      ]
     },
     "metadata": {},
     "output_type": "display_data"
    }
   ],
   "source": [
    "A*B\n",
    "A%*%B"
   ]
  },
  {
   "cell_type": "code",
   "execution_count": 7,
   "metadata": {
    "collapsed": false
   },
   "outputs": [
    {
     "data": {
      "text/html": [
       "<ol class=list-inline>\n",
       "\t<li>0.993629532832408</li>\n",
       "\t<li>-0.0375694217575955</li>\n",
       "\t<li>0.0641947076118914</li>\n",
       "</ol>\n"
      ],
      "text/latex": [
       "\\begin{enumerate*}\n",
       "\\item 0.993629532832408\n",
       "\\item -0.0375694217575955\n",
       "\\item 0.0641947076118914\n",
       "\\end{enumerate*}\n"
      ],
      "text/markdown": [
       "1. 0.993629532832408\n",
       "2. -0.0375694217575955\n",
       "3. 0.0641947076118914\n",
       "\n",
       "\n"
      ],
      "text/plain": [
       "[1]  0.99362953 -0.03756942  0.06419471"
      ]
     },
     "metadata": {},
     "output_type": "display_data"
    }
   ],
   "source": [
    "b <- c(23, 2, 51)\n",
    "solve(A, b)"
   ]
  },
  {
   "cell_type": "markdown",
   "metadata": {},
   "source": [
    "# Esercizio 3\n",
    "\n",
    "Siano dati i seguenti studenti con relativi punteggi di esame:\n",
    "\n",
    "* Nomi : Luigi, Francesca, Carlo, Alberto, Nicola, Giovanna\n",
    "* Voti : 28, 18, 25, 21, 30 , 22\n",
    "* ripetizioni esame : 3, 2, 1, 1, 2, 2\n",
    "\n",
    "\n",
    "1. Inserire i dati in una matrice R 6x2, avendo come colonne voti e numero di ripetizioni dell’esame\n",
    "2. Assegnare i nomi di riga; per le colonne utilizzate “voto” e “ripetizioni”\n",
    "3. Determinare (non a mano) il numero di studenti nelle tre fasce di voto: \\<22, 23-26, 27>\n",
    "4. Aggiungere una colonna “fascia” alla matrice, in cui inseriamo 3 per gli studenti in fascia 18-22, 2 per gli studenti in fascia 23-26 e 1 per quelli in fascia 27-30\n",
    "5. Stampare le frequenze relative delle fasce di studenti"
   ]
  },
  {
   "cell_type": "code",
   "execution_count": 8,
   "metadata": {
    "collapsed": false
   },
   "outputs": [
    {
     "data": {
      "text/html": [
       "<table>\n",
       "<thead><tr><th></th><th scope=col>voti</th><th scope=col>ripetizioni</th></tr></thead>\n",
       "<tbody>\n",
       "\t<tr><th scope=row>Luigi</th><td>28</td><td>3 </td></tr>\n",
       "\t<tr><th scope=row>Francesca</th><td>18</td><td>2 </td></tr>\n",
       "\t<tr><th scope=row>Carlo</th><td>25</td><td>1 </td></tr>\n",
       "\t<tr><th scope=row>Alberto</th><td>21</td><td>1 </td></tr>\n",
       "\t<tr><th scope=row>Nicola</th><td>30</td><td>2 </td></tr>\n",
       "\t<tr><th scope=row>Giovanna</th><td>22</td><td>2 </td></tr>\n",
       "</tbody>\n",
       "</table>\n"
      ],
      "text/latex": [
       "\\begin{tabular}{r|ll}\n",
       "  & voti & ripetizioni\\\\\n",
       "\\hline\n",
       "\tLuigi & 28 & 3 \\\\\n",
       "\tFrancesca & 18 & 2 \\\\\n",
       "\tCarlo & 25 & 1 \\\\\n",
       "\tAlberto & 21 & 1 \\\\\n",
       "\tNicola & 30 & 2 \\\\\n",
       "\tGiovanna & 22 & 2 \\\\\n",
       "\\end{tabular}\n"
      ],
      "text/markdown": [
       "1. 28\n",
       "2. 18\n",
       "3. 25\n",
       "4. 21\n",
       "5. 30\n",
       "6. 22\n",
       "7. 3\n",
       "8. 2\n",
       "9. 1\n",
       "10. 1\n",
       "11. 2\n",
       "12. 2\n",
       "\n",
       "\n"
      ],
      "text/plain": [
       "          voti ripetizioni\n",
       "Luigi     28   3          \n",
       "Francesca 18   2          \n",
       "Carlo     25   1          \n",
       "Alberto   21   1          \n",
       "Nicola    30   2          \n",
       "Giovanna  22   2          "
      ]
     },
     "metadata": {},
     "output_type": "display_data"
    }
   ],
   "source": [
    "voti <- c(28, 18, 25, 21, 30, 22)\n",
    "ripetizioni <- c(3, 2, 1, 1, 2, 2)\n",
    "esami <- cbind(voti, ripetizioni)\n",
    "rownames(esami) <- c(\"Luigi\", \"Francesca\", \"Carlo\", \"Alberto\", \"Nicola\", \"Giovanna\")\n",
    "esami"
   ]
  },
  {
   "cell_type": "code",
   "execution_count": 9,
   "metadata": {
    "collapsed": false,
    "scrolled": true
   },
   "outputs": [
    {
     "data": {
      "text/html": [
       "3"
      ],
      "text/latex": [
       "3"
      ],
      "text/markdown": [
       "3"
      ],
      "text/plain": [
       "[1] 3"
      ]
     },
     "metadata": {},
     "output_type": "display_data"
    },
    {
     "data": {
      "text/html": [
       "1"
      ],
      "text/latex": [
       "1"
      ],
      "text/markdown": [
       "1"
      ],
      "text/plain": [
       "[1] 1"
      ]
     },
     "metadata": {},
     "output_type": "display_data"
    },
    {
     "data": {
      "text/html": [
       "2"
      ],
      "text/latex": [
       "2"
      ],
      "text/markdown": [
       "2"
      ],
      "text/plain": [
       "[1] 2"
      ]
     },
     "metadata": {},
     "output_type": "display_data"
    }
   ],
   "source": [
    "length(voti[voti<=22])\n",
    "length(voti[voti>=23 & voti<=26])\n",
    "length(voti[voti>=27])"
   ]
  },
  {
   "cell_type": "code",
   "execution_count": 10,
   "metadata": {
    "collapsed": false
   },
   "outputs": [
    {
     "data": {
      "text/html": [
       "<table>\n",
       "<thead><tr><th></th><th scope=col>voti</th><th scope=col>ripetizioni</th><th scope=col>fascia</th></tr></thead>\n",
       "<tbody>\n",
       "\t<tr><th scope=row>Luigi</th><td>28</td><td>3 </td><td>1 </td></tr>\n",
       "\t<tr><th scope=row>Francesca</th><td>18</td><td>2 </td><td>3 </td></tr>\n",
       "\t<tr><th scope=row>Carlo</th><td>25</td><td>1 </td><td>2 </td></tr>\n",
       "\t<tr><th scope=row>Alberto</th><td>21</td><td>1 </td><td>3 </td></tr>\n",
       "\t<tr><th scope=row>Nicola</th><td>30</td><td>2 </td><td>1 </td></tr>\n",
       "\t<tr><th scope=row>Giovanna</th><td>22</td><td>2 </td><td>3 </td></tr>\n",
       "</tbody>\n",
       "</table>\n"
      ],
      "text/latex": [
       "\\begin{tabular}{r|lll}\n",
       "  & voti & ripetizioni & fascia\\\\\n",
       "\\hline\n",
       "\tLuigi & 28 & 3  & 1 \\\\\n",
       "\tFrancesca & 18 & 2  & 3 \\\\\n",
       "\tCarlo & 25 & 1  & 2 \\\\\n",
       "\tAlberto & 21 & 1  & 3 \\\\\n",
       "\tNicola & 30 & 2  & 1 \\\\\n",
       "\tGiovanna & 22 & 2  & 3 \\\\\n",
       "\\end{tabular}\n"
      ],
      "text/markdown": [
       "1. 28\n",
       "2. 18\n",
       "3. 25\n",
       "4. 21\n",
       "5. 30\n",
       "6. 22\n",
       "7. 3\n",
       "8. 2\n",
       "9. 1\n",
       "10. 1\n",
       "11. 2\n",
       "12. 2\n",
       "13. 1\n",
       "14. 3\n",
       "15. 2\n",
       "16. 3\n",
       "17. 1\n",
       "18. 3\n",
       "\n",
       "\n"
      ],
      "text/plain": [
       "          voti ripetizioni fascia\n",
       "Luigi     28   3           1     \n",
       "Francesca 18   2           3     \n",
       "Carlo     25   1           2     \n",
       "Alberto   21   1           3     \n",
       "Nicola    30   2           1     \n",
       "Giovanna  22   2           3     "
      ]
     },
     "metadata": {},
     "output_type": "display_data"
    }
   ],
   "source": [
    "fascia <- rep(3, times=length(voti)) - (voti>=23) - (voti>=27)\n",
    "esami <- cbind(esami, fascia)\n",
    "esami"
   ]
  },
  {
   "cell_type": "code",
   "execution_count": 12,
   "metadata": {
    "collapsed": false,
    "scrolled": true
   },
   "outputs": [
    {
     "data": {
      "text/plain": [
       "fascia\n",
       "1 2 3 \n",
       "2 1 3 "
      ]
     },
     "metadata": {},
     "output_type": "display_data"
    }
   ],
   "source": [
    "table(fascia)"
   ]
  },
  {
   "cell_type": "markdown",
   "metadata": {},
   "source": [
    "Utilizzando le definizioni (non le formule predefinite di R)\n",
    "\n",
    "6. Determinare la media campionaria dei voti e del numero di ripetizioni d’esame\n",
    "7. Verificare che la somma degli scarti dalla media sia 0\n",
    "8. Determinare la varianza campionaria dei voti e del numero di ripetizioni\n",
    "9. Esiste una correlazione positiva tra i voti ed il numero di ripetizioni?"
   ]
  },
  {
   "cell_type": "code",
   "execution_count": 17,
   "metadata": {
    "collapsed": false
   },
   "outputs": [
    {
     "data": {
      "text/html": [
       "24"
      ],
      "text/latex": [
       "24"
      ],
      "text/markdown": [
       "24"
      ],
      "text/plain": [
       "[1] 24"
      ]
     },
     "metadata": {},
     "output_type": "display_data"
    },
    {
     "data": {
      "text/html": [
       "1.83333333333333"
      ],
      "text/latex": [
       "1.83333333333333"
      ],
      "text/markdown": [
       "1.83333333333333"
      ],
      "text/plain": [
       "[1] 1.833333"
      ]
     },
     "metadata": {},
     "output_type": "display_data"
    }
   ],
   "source": [
    "mediavoti <- sum(voti)/length(voti)\n",
    "mediavoti\n",
    "mediarip <- sum(ripetizioni)/length(ripetizioni)\n",
    "mediarip"
   ]
  },
  {
   "cell_type": "code",
   "execution_count": 21,
   "metadata": {
    "collapsed": false
   },
   "outputs": [
    {
     "data": {
      "text/html": [
       "0"
      ],
      "text/latex": [
       "0"
      ],
      "text/markdown": [
       "0"
      ],
      "text/plain": [
       "[1] 0"
      ]
     },
     "metadata": {},
     "output_type": "display_data"
    }
   ],
   "source": [
    "sum(voti - mediavoti)"
   ]
  },
  {
   "cell_type": "code",
   "execution_count": 26,
   "metadata": {
    "collapsed": false
   },
   "outputs": [
    {
     "data": {
      "text/html": [
       "20.4"
      ],
      "text/latex": [
       "20.4"
      ],
      "text/markdown": [
       "20.4"
      ],
      "text/plain": [
       "[1] 20.4"
      ]
     },
     "metadata": {},
     "output_type": "display_data"
    },
    {
     "data": {
      "text/html": [
       "0.566666666666667"
      ],
      "text/latex": [
       "0.566666666666667"
      ],
      "text/markdown": [
       "0.566666666666667"
      ],
      "text/plain": [
       "[1] 0.5666667"
      ]
     },
     "metadata": {},
     "output_type": "display_data"
    }
   ],
   "source": [
    "varvoti <- sum((voti - mediavoti)**2)/(length(voti)-1)\n",
    "varvoti\n",
    "varrip <- sum((ripetizioni - mediarip)**2)/(length(ripetizioni)-1)\n",
    "varrip"
   ]
  },
  {
   "cell_type": "code",
   "execution_count": 27,
   "metadata": {
    "collapsed": false
   },
   "outputs": [
    {
     "data": {
      "text/html": [
       "0.352941176470588"
      ],
      "text/latex": [
       "0.352941176470588"
      ],
      "text/markdown": [
       "0.352941176470588"
      ],
      "text/plain": [
       "[1] 0.3529412"
      ]
     },
     "metadata": {},
     "output_type": "display_data"
    }
   ],
   "source": [
    "corrvotirip <- sum((voti - mediavoti)*(ripetizioni - mediarip))/((length(voti)-1)*sqrt(varvoti)*sqrt(varrip))\n",
    "corrvotirip"
   ]
  },
  {
   "cell_type": "markdown",
   "metadata": {},
   "source": [
    "# Esercizio 4\n",
    "\n",
    "1. Scaricare il il dataset dataset1.csv\n",
    "2. Importare il dataset e creare un vettore che contenga i dati della prima colonna:"
   ]
  },
  {
   "cell_type": "code",
   "execution_count": 34,
   "metadata": {
    "collapsed": false
   },
   "outputs": [],
   "source": [
    "dati <- read.csv(file = \"dataset1.csv\") \n",
    "eta <- dati$Eta\n",
    "voti <- dati$Voti\n",
    "tentativi <- dati$Tentativi"
   ]
  },
  {
   "cell_type": "markdown",
   "metadata": {},
   "source": [
    "a questo punto avrete un vettore eta, uno voti e uno tentativi contenenti 45222 valori numerici.\n",
    "\n",
    "Per i vettori “voti”, “tentativi” ed “eta”:\n",
    "\n",
    "3. Calcolare media e mediana utilizzando le funzioni viste in aula durante la teoria\n",
    "4. Calcolare varianza\n",
    "5. Calcolare la deviazione standard\n",
    "6. Calcolare il primo e il terzo quartile\n",
    "7. il vettore “tentativi” è un pelino strano? Perchè?"
   ]
  },
  {
   "cell_type": "code",
   "execution_count": 33,
   "metadata": {
    "collapsed": false
   },
   "outputs": [
    {
     "data": {
      "text/html": [
       "24.9988634354558"
      ],
      "text/latex": [
       "24.9988634354558"
      ],
      "text/markdown": [
       "24.9988634354558"
      ],
      "text/plain": [
       "[1] 24.99886"
      ]
     },
     "metadata": {},
     "output_type": "display_data"
    },
    {
     "data": {
      "text/html": [
       "25"
      ],
      "text/latex": [
       "25"
      ],
      "text/markdown": [
       "25"
      ],
      "text/plain": [
       "[1] 25"
      ]
     },
     "metadata": {},
     "output_type": "display_data"
    },
    {
     "data": {
      "text/html": [
       "10"
      ],
      "text/latex": [
       "10"
      ],
      "text/markdown": [
       "10"
      ],
      "text/plain": [
       "[1] 10"
      ]
     },
     "metadata": {},
     "output_type": "display_data"
    },
    {
     "data": {
      "text/html": [
       "10"
      ],
      "text/latex": [
       "10"
      ],
      "text/markdown": [
       "10"
      ],
      "text/plain": [
       "[1] 10"
      ]
     },
     "metadata": {},
     "output_type": "display_data"
    },
    {
     "data": {
      "text/html": [
       "38.5874523274316"
      ],
      "text/latex": [
       "38.5874523274316"
      ],
      "text/markdown": [
       "38.5874523274316"
      ],
      "text/plain": [
       "[1] 38.58745"
      ]
     },
     "metadata": {},
     "output_type": "display_data"
    },
    {
     "data": {
      "text/html": [
       "37"
      ],
      "text/latex": [
       "37"
      ],
      "text/markdown": [
       "37"
      ],
      "text/plain": [
       "[1] 37"
      ]
     },
     "metadata": {},
     "output_type": "display_data"
    }
   ],
   "source": [
    "mean(voti)\n",
    "median(voti)\n",
    "mean(tentativi)\n",
    "median(tentativi)\n",
    "mean(eta)\n",
    "median(eta)"
   ]
  },
  {
   "cell_type": "code",
   "execution_count": 39,
   "metadata": {
    "collapsed": false
   },
   "outputs": [
    {
     "data": {
      "text/html": [
       "4.14404295955232"
      ],
      "text/latex": [
       "4.14404295955232"
      ],
      "text/markdown": [
       "4.14404295955232"
      ],
      "text/plain": [
       "[1] 4.144043"
      ]
     },
     "metadata": {},
     "output_type": "display_data"
    },
    {
     "data": {
      "text/html": [
       "0"
      ],
      "text/latex": [
       "0"
      ],
      "text/markdown": [
       "0"
      ],
      "text/plain": [
       "[1] 0"
      ]
     },
     "metadata": {},
     "output_type": "display_data"
    },
    {
     "data": {
      "text/html": [
       "175.692752230659"
      ],
      "text/latex": [
       "175.692752230659"
      ],
      "text/markdown": [
       "175.692752230659"
      ],
      "text/plain": [
       "[1] 175.6928"
      ]
     },
     "metadata": {},
     "output_type": "display_data"
    }
   ],
   "source": [
    "var(voti)\n",
    "var(tentativi)\n",
    "var(eta)"
   ]
  },
  {
   "cell_type": "code",
   "execution_count": 41,
   "metadata": {
    "collapsed": false
   },
   "outputs": [
    {
     "data": {
      "text/html": [
       "2.03569225561044"
      ],
      "text/latex": [
       "2.03569225561044"
      ],
      "text/markdown": [
       "2.03569225561044"
      ],
      "text/plain": [
       "[1] 2.035692"
      ]
     },
     "metadata": {},
     "output_type": "display_data"
    },
    {
     "data": {
      "text/html": [
       "0"
      ],
      "text/latex": [
       "0"
      ],
      "text/markdown": [
       "0"
      ],
      "text/plain": [
       "[1] 0"
      ]
     },
     "metadata": {},
     "output_type": "display_data"
    },
    {
     "data": {
      "text/html": [
       "13.2549142671939"
      ],
      "text/latex": [
       "13.2549142671939"
      ],
      "text/markdown": [
       "13.2549142671939"
      ],
      "text/plain": [
       "[1] 13.25491"
      ]
     },
     "metadata": {},
     "output_type": "display_data"
    }
   ],
   "source": [
    "sd(voti)\n",
    "sd(tentativi)\n",
    "sd(eta)"
   ]
  },
  {
   "cell_type": "code",
   "execution_count": 43,
   "metadata": {
    "collapsed": false
   },
   "outputs": [
    {
     "data": {
      "text/html": [
       "<strong>25%:</strong> 24"
      ],
      "text/latex": [
       "\\textbf{25\\textbackslash{}\\%:} 24"
      ],
      "text/markdown": [
       "**25%:** 24"
      ],
      "text/plain": [
       "25% \n",
       " 24 "
      ]
     },
     "metadata": {},
     "output_type": "display_data"
    },
    {
     "data": {
      "text/html": [
       "<strong>75%:</strong> 26"
      ],
      "text/latex": [
       "\\textbf{75\\textbackslash{}\\%:} 26"
      ],
      "text/markdown": [
       "**75%:** 26"
      ],
      "text/plain": [
       "75% \n",
       " 26 "
      ]
     },
     "metadata": {},
     "output_type": "display_data"
    },
    {
     "data": {
      "text/html": [
       "<strong>25%:</strong> 10"
      ],
      "text/latex": [
       "\\textbf{25\\textbackslash{}\\%:} 10"
      ],
      "text/markdown": [
       "**25%:** 10"
      ],
      "text/plain": [
       "25% \n",
       " 10 "
      ]
     },
     "metadata": {},
     "output_type": "display_data"
    },
    {
     "data": {
      "text/html": [
       "<strong>75%:</strong> 10"
      ],
      "text/latex": [
       "\\textbf{75\\textbackslash{}\\%:} 10"
      ],
      "text/markdown": [
       "**75%:** 10"
      ],
      "text/plain": [
       "75% \n",
       " 10 "
      ]
     },
     "metadata": {},
     "output_type": "display_data"
    },
    {
     "data": {
      "text/html": [
       "<strong>25%:</strong> 28"
      ],
      "text/latex": [
       "\\textbf{25\\textbackslash{}\\%:} 28"
      ],
      "text/markdown": [
       "**25%:** 28"
      ],
      "text/plain": [
       "25% \n",
       " 28 "
      ]
     },
     "metadata": {},
     "output_type": "display_data"
    },
    {
     "data": {
      "text/html": [
       "<strong>75%:</strong> 47"
      ],
      "text/latex": [
       "\\textbf{75\\textbackslash{}\\%:} 47"
      ],
      "text/markdown": [
       "**75%:** 47"
      ],
      "text/plain": [
       "75% \n",
       " 47 "
      ]
     },
     "metadata": {},
     "output_type": "display_data"
    }
   ],
   "source": [
    "quantile(voti, 0.25)\n",
    "quantile(voti, 0.75)\n",
    "quantile(tentativi, 0.25)\n",
    "quantile(tentativi, 0.75)\n",
    "quantile(eta, 0.25)\n",
    "quantile(eta, 0.75)"
   ]
  }
 ],
 "metadata": {
  "kernelspec": {
   "display_name": "R",
   "language": "R",
   "name": "ir"
  },
  "language_info": {
   "codemirror_mode": "r",
   "file_extension": ".r",
   "mimetype": "text/x-r-source",
   "name": "R",
   "pygments_lexer": "r",
   "version": "3.3.1"
  }
 },
 "nbformat": 4,
 "nbformat_minor": 1
}
